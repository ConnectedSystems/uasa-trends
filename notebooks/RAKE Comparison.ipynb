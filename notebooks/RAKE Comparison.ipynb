{
 "cells": [
  {
   "cell_type": "code",
   "execution_count": 1,
   "metadata": {},
   "outputs": [],
   "source": [
    "import rake_nltk\n",
    "import wosis\n",
    "import pandas as pd"
   ]
  },
  {
   "cell_type": "markdown",
   "metadata": {},
   "source": [
    "The abstract used for demonstration here is taken from Roo et al. (2015) (DOI: 10.1214/14-BA909)"
   ]
  },
  {
   "cell_type": "code",
   "execution_count": 2,
   "metadata": {},
   "outputs": [],
   "source": [
    "abstract_text = \"Prior sensitivity examination plays an important role in applied Bayesian analyses. This is especially true for Bayesian hierarchical models, where interpretability of the parameters within deeper layers in the hierarchy becomes challenging. In addition, lack of information together with identifiability issues may imply that the prior distributions for such models have an undesired influence on the posterior inference. Despite its importance, informal approaches to prior sensitivity analysis are currently used. They require repetitive re-fits of the model with ad-hoc modified base prior parameter values. Other formal approaches to prior sensitivity analysis suffer from a lack of popularity in practice, mainly due to their high computational cost and absence of software implementation. We propose a novel formal approach to prior sensitivity analysis, which is fast and accurate. It quantifies sensitivity without the need for a model re-fit. Through a series of examples we show how our approach can be used to detect high prior sensitivities of some parameters as well as identifiability issues in possibly over-parametrized Bayesian hierarchical models.\""
   ]
  },
  {
   "cell_type": "code",
   "execution_count": 3,
   "metadata": {},
   "outputs": [
    {
     "data": {
      "text/plain": [
       "['hoc modified base prior parameter values',\n",
       " 'parameters within deeper layers',\n",
       " 'identifiability issues may imply',\n",
       " 'prior sensitivity examination plays',\n",
       " 'detect high prior sensitivities',\n",
       " 'prior sensitivity analysis suffer',\n",
       " 'parametrized bayesian hierarchical models',\n",
       " 'prior sensitivity analysis',\n",
       " 'bayesian hierarchical models',\n",
       " 'quantifies sensitivity without',\n",
       " 'high computational cost',\n",
       " 'applied bayesian analyses',\n",
       " 'novel formal approach',\n",
       " 'hierarchy becomes challenging']"
      ]
     },
     "execution_count": 3,
     "metadata": {},
     "output_type": "execute_result"
    }
   ],
   "source": [
    "rake_model = rake_nltk.Rake(min_length=3)\n",
    "\n",
    "rake_model.extract_keywords_from_text(abstract_text)\n",
    "rake_model.get_ranked_phrases()"
   ]
  },
  {
   "cell_type": "markdown",
   "metadata": {},
   "source": [
    "To use Wosis, we need to create a Pandas DataFrame which holds relevant data for the abstract - this is because the workflow it attempts to simplify is assumed to involve a large number of texts."
   ]
  },
  {
   "cell_type": "code",
   "execution_count": 4,
   "metadata": {},
   "outputs": [],
   "source": [
    "example_corpus = pd.DataFrame({\n",
    "    'title': 'Sensitivity Analysis for Bayesian Hierarchical Models',\n",
    "    'year': '2015',\n",
    "    'abstract': abstract_text,\n",
    "    'DOI': '10.1214/14-BA909',\n",
    "    'id': 'example'\n",
    "}, index=[0])"
   ]
  },
  {
   "cell_type": "code",
   "execution_count": 5,
   "metadata": {},
   "outputs": [
    {
     "name": "stdout",
     "output_type": "stream",
     "text": [
      "Sensitivity Analysis for Bayesian Hierarchical Models (2015) \n",
      "https://dx.doi.org/10.1214/14-BA909 \n",
      "\n",
      "We propose a novel formal approach to prior sensitivity analysis, which is fast and accurate. \n",
      "\n",
      "Other formal approaches to prior sensitivity analysis suffer from a lack of popularity in practice, mainly due to their high computational cost and absence of software implementation. \n",
      "\n",
      "Despite its importance, informal approaches to prior sensitivity analysis are currently used. \n",
      "\n",
      "This is especially true for Bayesian hierarchical models, where interpretability of the parameters within deeper layers in the hierarchy becomes challenging. \n",
      "\n",
      "They require repetitive re-fits of the model with ad-hoc modified base prior parameter values. \n",
      "\n",
      "==================== \n",
      "\n"
     ]
    }
   ],
   "source": [
    "identified_phrases = wosis.find_phrases(example_corpus, top_n=5)\n",
    "identified_phrases.display_phrases()"
   ]
  },
  {
   "cell_type": "code",
   "execution_count": null,
   "metadata": {},
   "outputs": [],
   "source": []
  }
 ],
 "metadata": {
  "kernelspec": {
   "display_name": "Python (Biblio)",
   "language": "python",
   "name": "biblio"
  },
  "language_info": {
   "codemirror_mode": {
    "name": "ipython",
    "version": 3
   },
   "file_extension": ".py",
   "mimetype": "text/x-python",
   "name": "python",
   "nbconvert_exporter": "python",
   "pygments_lexer": "ipython3",
   "version": "3.6.6"
  }
 },
 "nbformat": 4,
 "nbformat_minor": 2
}
