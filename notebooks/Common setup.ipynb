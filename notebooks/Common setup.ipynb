{
 "cells": [
  {
   "cell_type": "code",
   "execution_count": 1,
   "metadata": {},
   "outputs": [],
   "source": [
    "%reload_ext autoreload\n",
    "%autoreload 2"
   ]
  },
  {
   "cell_type": "code",
   "execution_count": 2,
   "metadata": {},
   "outputs": [
    {
     "name": "stderr",
     "output_type": "stream",
     "text": [
      "C:\\programs\\miniconda3\\envs\\uasa-trends\\lib\\site-packages\\fuzzywuzzy\\fuzz.py:11: UserWarning: Using slow pure-python SequenceMatcher. Install python-Levenshtein to remove this warning\n",
      "  warnings.warn('Using slow pure-python SequenceMatcher. Install python-Levenshtein to remove this warning')\n"
     ]
    }
   ],
   "source": [
    "import wosis\n",
    "import wosis.analysis.plotting as wos_plot\n",
    "import metaknowledge as mk\n",
    "import networkx as nx\n",
    "\n",
    "import numpy as np\n",
    "import pandas as pd\n",
    "import json\n",
    "\n",
    "import matplotlib.pyplot as plt\n",
    "import seaborn as sns\n",
    "\n",
    "\n",
    "from pathlib import Path\n",
    "\n",
    "# Make plots look better\n",
    "sns.set_style('darkgrid')\n",
    "sns.set_context('paper', font_scale=2.0)\n",
    "plt.tight_layout();"
   ]
  },
  {
   "cell_type": "markdown",
   "metadata": {},
   "source": [
    "The Web of Science licence agreement states that we should not make public certain information/metadata.\n",
    "To conform to this agreement we have to hide certain columns when printing out DataFrames"
   ]
  },
  {
   "cell_type": "code",
   "execution_count": 3,
   "metadata": {},
   "outputs": [],
   "source": [
    "# Some fields are proprietary; owned by Clarivate Analytics. These have to be hidden.\n",
    "HIDE_COLUMNS = ['DE', 'abstract', 'keywords', 'DOI', 'id', 'kws']"
   ]
  },
  {
   "cell_type": "code",
   "execution_count": 4,
   "metadata": {},
   "outputs": [
    {
     "name": "stderr",
     "output_type": "stream",
     "text": [
      "C:\\programs\\miniconda3\\envs\\uasa-trends\\lib\\site-packages\\wosis\\query.py:49: YAMLLoadWarning: calling yaml.load() without Loader=... is deprecated, as the default Loader is unsafe. Please read https://msg.pyyaml.org/load for full details.\n",
      "  wos_config = yaml.load(config)\n"
     ]
    }
   ],
   "source": [
    "CONFIG_FILE = \"../config/config.yml\"  # Point to configuration file\n",
    "TMP_DIR = '../tmp'  # temporary store - data that cannot be shared is stored here\n",
    "DATA_DIR = '../data'  # data that can be shared is stored here\n",
    "FIG_DIR = '../figs'  # directory to place generated figures\n",
    "\n",
    "WOS_CONFIG = wosis.load_config(CONFIG_FILE)"
   ]
  },
  {
   "cell_type": "code",
   "execution_count": 5,
   "metadata": {},
   "outputs": [],
   "source": [
    "# Analysis and search functions\n",
    "# from wosis.analysis import (preview_matches, search_records, keyword_matches, \n",
    "#                             find_pubs_by_authors, preview_matches_by_keyword, get_unique_kw_titles,\n",
    "#                             remove_by_journals, remove_by_title)"
   ]
  },
  {
   "cell_type": "code",
   "execution_count": null,
   "metadata": {},
   "outputs": [],
   "source": []
  }
 ],
 "metadata": {
  "kernelspec": {
   "display_name": "biblio",
   "language": "python",
   "name": "uasa-trends"
  },
  "language_info": {
   "codemirror_mode": {
    "name": "ipython",
    "version": 3
   },
   "file_extension": ".py",
   "mimetype": "text/x-python",
   "name": "python",
   "nbconvert_exporter": "python",
   "pygments_lexer": "ipython3",
   "version": "3.7.3"
  }
 },
 "nbformat": 4,
 "nbformat_minor": 2
}
