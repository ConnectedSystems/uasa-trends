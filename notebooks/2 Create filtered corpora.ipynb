{
 "cells": [
  {
   "cell_type": "code",
   "execution_count": 1,
   "metadata": {},
   "outputs": [],
   "source": [
    "%reload_ext autoreload\n",
    "%autoreload 2"
   ]
  },
  {
   "cell_type": "code",
   "execution_count": 2,
   "metadata": {},
   "outputs": [],
   "source": [
    "import wosis\n",
    "import pandas as pd\n",
    "import metaknowledge as mk\n",
    "import wosis.analysis.plotting as wos_plot\n",
    "\n",
    "# Plotting libraries\n",
    "import matplotlib.pyplot as plt\n",
    "import seaborn as sns\n",
    "\n",
    "# This just helps make the plots look nicer\n",
    "sns.set_style('darkgrid')\n",
    "sns.set_context('paper', font_scale=2.0)"
   ]
  },
  {
   "cell_type": "markdown",
   "metadata": {},
   "source": [
    "The Web of Science licence agreement states that we should not make public certain information/metadata.\n",
    "To conform to this agreement we have to hide certain columns when printing out DataFrames"
   ]
  },
  {
   "cell_type": "code",
   "execution_count": 3,
   "metadata": {},
   "outputs": [],
   "source": [
    "hide_columns = ['DE', 'abstract', 'keywords', 'DOI', 'id', 'kws']"
   ]
  },
  {
   "cell_type": "code",
   "execution_count": 4,
   "metadata": {},
   "outputs": [
    {
     "name": "stdout",
     "output_type": "stream",
     "text": [
      "Corpora consists of 15754 Publications\n"
     ]
    }
   ],
   "source": [
    "# Read in data from temporary cache file\n",
    "query_id = \"756d39801152fe5f5f4ad3a3df9b6a30\"\n",
    "RC = mk.RecordCollection(\"tmp/{}.txt\".format(query_id))\n",
    "\n",
    "expected_num_records = 15754\n",
    "num_records = len(RC)\n",
    "\n",
    "assert num_records == expected_num_records, \\\n",
    "    \"Mismatch in number of records - expected {}, got {}\".format(expected_num_records, num_records)\n",
    "\n",
    "print(\"Corpora consists of\", num_records, \"Publications\")\n",
    "\n",
    "corpora_df = wosis.rc_to_df(RC)"
   ]
  },
  {
   "cell_type": "markdown",
   "metadata": {},
   "source": [
    "The corpora should all contain valid DOIs to be included"
   ]
  },
  {
   "cell_type": "code",
   "execution_count": 5,
   "metadata": {},
   "outputs": [
    {
     "name": "stdout",
     "output_type": "stream",
     "text": [
      "Removing 1799 records with no DOIs\n"
     ]
    }
   ],
   "source": [
    "corpora_df, removed_pubs = wosis.constrain.remove_empty_DOIs(corpora_df)"
   ]
  },
  {
   "cell_type": "markdown",
   "metadata": {},
   "source": [
    "Then we remove conferences and workshops"
   ]
  },
  {
   "cell_type": "code",
   "execution_count": 6,
   "metadata": {},
   "outputs": [
    {
     "name": "stdout",
     "output_type": "stream",
     "text": [
      "CONFERENCE: 292\n",
      "WORKSHOP: 13\n",
      "PROCEEDINGS: 23\n",
      "SYMPOSIUM: 29\n"
     ]
    }
   ],
   "source": [
    "corpora_df = wosis.remove_by_journals(corpora_df, [\"CONFERENCE\", \"WORKSHOP\", \"PROCEEDINGS\", \"SYMPOSIUM\"])"
   ]
  },
  {
   "cell_type": "markdown",
   "metadata": {},
   "source": [
    "Now we filter out journals that only have 3 papers"
   ]
  },
  {
   "cell_type": "code",
   "execution_count": 7,
   "metadata": {},
   "outputs": [
    {
     "name": "stdout",
     "output_type": "stream",
     "text": [
      "Corpora consists of 13069 Publications\n"
     ]
    }
   ],
   "source": [
    "# Journals have to have more than 3 papers to be included\n",
    "corpora_df = corpora_df.groupby('SO').filter(lambda x: x['DOI'].count() > 3)\n",
    "\n",
    "print(\"Corpora consists of\", len(corpora_df), \"Publications\")"
   ]
  },
  {
   "cell_type": "markdown",
   "metadata": {},
   "source": [
    "The initially filtered corpora is written out for further analysis"
   ]
  },
  {
   "cell_type": "code",
   "execution_count": 8,
   "metadata": {},
   "outputs": [],
   "source": [
    "filtered_corpora = wosis.extract_recs(corpora_df.id, RC)\n",
    "wosis.export_ris_file(filtered_corpora, 'tmp/filtered_corpora.txt')"
   ]
  },
  {
   "cell_type": "markdown",
   "metadata": {},
   "source": [
    "This can then be read in for later analysis with:\n",
    "    \n",
    "```python\n",
    "import metaknowledge as mk\n",
    "RC = mk.RecordCollection(\"tmp/filtered_corpora.txt\".format(query_id))\n",
    "```"
   ]
  },
  {
   "cell_type": "markdown",
   "metadata": {},
   "source": [
    "For transparency and reproducibility reasons, the papers removed are listed in the indicated file below"
   ]
  },
  {
   "cell_type": "code",
   "execution_count": 9,
   "metadata": {},
   "outputs": [],
   "source": [
    "tmp_df = wosis.rc_to_df(RC)\n",
    "\n",
    "all_removed = tmp_df.loc[~tmp_df.id.isin(corpora_df.id)]\n",
    "all_removed.loc[:, ~all_removed.columns.isin(hide_columns)].to_csv('../data/initially_removed.csv')"
   ]
  }
 ],
 "metadata": {
  "kernelspec": {
   "display_name": "Python (Biblio)",
   "language": "python",
   "name": "myenv"
  },
  "language_info": {
   "codemirror_mode": {
    "name": "ipython",
    "version": 3
   },
   "file_extension": ".py",
   "mimetype": "text/x-python",
   "name": "python",
   "nbconvert_exporter": "python",
   "pygments_lexer": "ipython3",
   "version": "3.5.6"
  }
 },
 "nbformat": 4,
 "nbformat_minor": 2
}
