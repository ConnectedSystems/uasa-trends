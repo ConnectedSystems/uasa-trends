{
 "cells": [
  {
   "cell_type": "code",
   "execution_count": 1,
   "metadata": {},
   "outputs": [],
   "source": [
    "%reload_ext autoreload\n",
    "%autoreload 2"
   ]
  },
  {
   "cell_type": "code",
   "execution_count": 2,
   "metadata": {},
   "outputs": [
    {
     "name": "stderr",
     "output_type": "stream",
     "text": [
      "C:\\Users\\douglasd\\AppData\\Local\\Continuum\\miniconda3\\envs\\biblio\\lib\\site-packages\\fuzzywuzzy-0.17.0-py3.6.egg\\fuzzywuzzy\\fuzz.py:11: UserWarning: Using slow pure-python SequenceMatcher. Install python-Levenshtein to remove this warning\n",
      "  warnings.warn('Using slow pure-python SequenceMatcher. Install python-Levenshtein to remove this warning')\n"
     ]
    }
   ],
   "source": [
    "import wosis\n",
    "import pandas as pd\n",
    "import metaknowledge as mk\n",
    "import wosis.analysis.plotting as wos_plot\n",
    "\n",
    "# Plotting libraries\n",
    "import matplotlib.pyplot as plt\n",
    "import seaborn as sns\n",
    "\n",
    "# This just helps make the plots look nicer\n",
    "sns.set_style('darkgrid')\n",
    "sns.set_context('paper', font_scale=2.0)"
   ]
  },
  {
   "cell_type": "markdown",
   "metadata": {},
   "source": [
    "The Web of Science licence agreement states that we should not make public certain information/metadata.\n",
    "To conform to this agreement we have to hide certain columns when printing out DataFrames"
   ]
  },
  {
   "cell_type": "code",
   "execution_count": 3,
   "metadata": {},
   "outputs": [],
   "source": [
    "hide_columns = ['DE', 'abstract', 'keywords', 'DOI', 'id', 'kws']"
   ]
  },
  {
   "cell_type": "code",
   "execution_count": 4,
   "metadata": {},
   "outputs": [
    {
     "name": "stdout",
     "output_type": "stream",
     "text": [
      "Corpora consists of 13692 Publications\n"
     ]
    }
   ],
   "source": [
    "RC = mk.RecordCollection(\"tmp/rest_requested_corpora.txt\")\n",
    "\n",
    "expected_num_records = 13692\n",
    "num_records = len(RC)\n",
    "\n",
    "assert num_records == expected_num_records, \\\n",
    "    \"Mismatch in number of records - expected {}, got {}\".format(expected_num_records, num_records)\n",
    "\n",
    "print(\"Corpora consists of\", num_records, \"Publications\")\n",
    "\n",
    "corpora_df = wosis.rc_to_df(RC)"
   ]
  },
  {
   "cell_type": "markdown",
   "metadata": {},
   "source": [
    "The corpora should all contain valid DOIs to be included"
   ]
  },
  {
   "cell_type": "code",
   "execution_count": 5,
   "metadata": {},
   "outputs": [
    {
     "name": "stdout",
     "output_type": "stream",
     "text": [
      "Removing 429 records with no DOIs\n"
     ]
    }
   ],
   "source": [
    "corpora_df, removed_pubs = wosis.constrain.remove_empty_DOIs(corpora_df)"
   ]
  },
  {
   "cell_type": "markdown",
   "metadata": {},
   "source": [
    "Then we remove conferences and workshops"
   ]
  },
  {
   "cell_type": "code",
   "execution_count": 6,
   "metadata": {},
   "outputs": [
    {
     "name": "stdout",
     "output_type": "stream",
     "text": [
      "CONFERENCE: 0\n",
      "WORKSHOP: 0\n",
      "PROCEEDINGS: 16\n",
      "SYMPOSIUM: 0\n",
      "CONGRESS: 0\n"
     ]
    }
   ],
   "source": [
    "corpora_df = wosis.remove_by_journals(corpora_df, [\"CONFERENCE\", \"WORKSHOP\", \"PROCEEDINGS\", \"SYMPOSIUM\", \"CONGRESS\"])"
   ]
  },
  {
   "cell_type": "code",
   "execution_count": 7,
   "metadata": {},
   "outputs": [
    {
     "name": "stdout",
     "output_type": "stream",
     "text": [
      "lifecycle: 0\n",
      "life-cycle: 0\n",
      "life cycle: 0\n",
      "product life cycle: 0\n"
     ]
    }
   ],
   "source": [
    "corpora_df = wosis.remove_by_keywords(corpora_df, ['lifecycle', 'life-cycle', 'life cycle', 'product life cycle'])"
   ]
  },
  {
   "cell_type": "code",
   "execution_count": 8,
   "metadata": {},
   "outputs": [
    {
     "name": "stdout",
     "output_type": "stream",
     "text": [
      "image processing: 0\n"
     ]
    }
   ],
   "source": [
    "corpora_df = wosis.remove_by_keywords(corpora_df, ['image processing'])"
   ]
  },
  {
   "cell_type": "markdown",
   "metadata": {},
   "source": [
    "Filtering unrelated journals"
   ]
  },
  {
   "cell_type": "code",
   "execution_count": 11,
   "metadata": {},
   "outputs": [
    {
     "name": "stdout",
     "output_type": "stream",
     "text": [
      "PSYCHOL: 0\n",
      "BIOINFO: 0\n",
      "BUSINESS INFORMATION: 0\n",
      "MANUFACTURING: 0\n",
      "BIOLOGICALLY INSPIRED COGNITIVE ARCHITECTURES: 0\n",
      "COMPLEXITY: 0\n",
      "INDUSTRIAL ECOLOGY: 0\n",
      "QUANTITATIVE FINANCE: 0\n",
      "VIRTUAL REALITY: 0\n",
      "COMMUNICATION NETWORKS: 0\n",
      "COMPUTER METHODS AND PROGRAMS IN BIOMEDICINE: 0\n",
      "ARTIFICIAL INTELLIGENCE IN EDUCATION: 0\n",
      "INSURANCE MATHEMATICS & ECONOMICS: 0\n",
      "ASTIN BULLETIN: 0\n",
      "COMMUNICATION TECHNOLOGY: 0\n",
      "COMPUTERS & STRUCTURES: 0\n",
      "CHEMOSPHERE: 0\n",
      "VISUAL COMPUTING: 0\n",
      "WASTE MANAGEMENT: 0\n",
      "OPTIMIZATION AND ENGINEERING: 0\n",
      "COMPUTERS & OPERATIONS RESEARCH: 0\n",
      "INTERNATIONAL JOURNAL OF LIFE CYCLE ASSESSMENT: 209\n",
      "COMPUTATIONAL MECHANICS: 0\n",
      "JOURNAL OF CLEANER PRODUCTION: 0\n",
      "JOURNAL OF ORGANIZATIONAL COMPUTING AND ELECTRONIC COMMERCE: 0\n"
     ]
    }
   ],
   "source": [
    "from wosis.analysis import remove_by_journals, remove_by_title\n",
    "\n",
    "# List of unrelated Journals - will be matched by partial string\n",
    "unrelated_jo = ['PSYCHOL', 'BIOINFO', 'BUSINESS INFORMATION', 'MANUFACTURING', \n",
    "                'BIOLOGICALLY INSPIRED COGNITIVE ARCHITECTURES', 'COMPLEXITY', 'INDUSTRIAL ECOLOGY',\n",
    "                'QUANTITATIVE FINANCE', 'VIRTUAL REALITY', 'COMMUNICATION NETWORKS', 'COMPUTER METHODS AND PROGRAMS IN BIOMEDICINE',\n",
    "                'ARTIFICIAL INTELLIGENCE IN EDUCATION', 'INSURANCE MATHEMATICS & ECONOMICS', 'ASTIN BULLETIN', \n",
    "                'COMMUNICATION TECHNOLOGY', 'COMPUTERS & STRUCTURES', 'CHEMOSPHERE', 'VISUAL COMPUTING',\n",
    "                 'WASTE MANAGEMENT', 'OPTIMIZATION AND ENGINEERING',\n",
    "                'COMPUTERS & OPERATIONS RESEARCH', 'INTERNATIONAL JOURNAL OF LIFE CYCLE ASSESSMENT',\n",
    "                'COMPUTATIONAL MECHANICS', 'JOURNAL OF CLEANER PRODUCTION', 'JOURNAL OF ORGANIZATIONAL COMPUTING AND ELECTRONIC COMMERCE'\n",
    "\n",
    "               ]\n",
    "corpora_df = wosis.remove_by_journals(corpora_df, unrelated_jo)"
   ]
  },
  {
   "cell_type": "markdown",
   "metadata": {},
   "source": [
    "Now we filter out journals that only have 3 papers"
   ]
  },
  {
   "cell_type": "code",
   "execution_count": 12,
   "metadata": {
    "scrolled": true
   },
   "outputs": [
    {
     "name": "stdout",
     "output_type": "stream",
     "text": [
      "Corpora consists of 11718 Publications\n"
     ]
    }
   ],
   "source": [
    "# Journals have to have more than 3 papers to be included\n",
    "corpora_df = corpora_df.groupby('SO').filter(lambda x: x['DOI'].count() > 3)\n",
    "\n",
    "print(\"Corpora consists of\", len(corpora_df), \"Publications\")"
   ]
  },
  {
   "cell_type": "markdown",
   "metadata": {},
   "source": [
    "The initially filtered corpora is written out for further analysis"
   ]
  },
  {
   "cell_type": "code",
   "execution_count": 13,
   "metadata": {},
   "outputs": [],
   "source": [
    "filtered_corpora = wosis.extract_recs(corpora_df.id, RC)\n",
    "wosis.export_ris_file(filtered_corpora, 'tmp/rest_requested_corpora.txt')"
   ]
  },
  {
   "cell_type": "markdown",
   "metadata": {},
   "source": [
    "This can then be read in for later analysis with:\n",
    "    \n",
    "```python\n",
    "import metaknowledge as mk\n",
    "RC = mk.RecordCollection(\"tmp/rest_requested_corpora.txt\")\n",
    "```"
   ]
  },
  {
   "cell_type": "markdown",
   "metadata": {},
   "source": [
    "For transparency and reproducibility reasons, the papers removed are listed in the indicated file below"
   ]
  },
  {
   "cell_type": "code",
   "execution_count": 14,
   "metadata": {},
   "outputs": [],
   "source": [
    "tmp_rest_df = wosis.rc_to_df(RC)\n",
    "\n",
    "all_removed = tmp_rest_df.loc[~tmp_rest_df.id.isin(corpora_df.id)]\n",
    "all_removed.loc[:, ~all_removed.columns.isin(hide_columns)].to_csv('../data/initially_removed.csv')"
   ]
  },
  {
   "cell_type": "code",
   "execution_count": null,
   "metadata": {},
   "outputs": [],
   "source": []
  }
 ],
 "metadata": {
  "kernelspec": {
   "display_name": "biblio",
   "language": "python",
   "name": "biblio"
  },
  "language_info": {
   "codemirror_mode": {
    "name": "ipython",
    "version": 3
   },
   "file_extension": ".py",
   "mimetype": "text/x-python",
   "name": "python",
   "nbconvert_exporter": "python",
   "pygments_lexer": "ipython3",
   "version": "3.6.6"
  }
 },
 "nbformat": 4,
 "nbformat_minor": 2
}
