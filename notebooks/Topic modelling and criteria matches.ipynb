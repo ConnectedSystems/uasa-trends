{
 "cells": [
  {
   "cell_type": "markdown",
   "metadata": {},
   "source": [
    "Initial setup"
   ]
  },
  {
   "cell_type": "code",
   "execution_count": 1,
   "metadata": {},
   "outputs": [
    {
     "name": "stderr",
     "output_type": "stream",
     "text": [
      "C:\\Users\\douglasd\\AppData\\Local\\Continuum\\miniconda3\\envs\\biblio\\lib\\site-packages\\fuzzywuzzy-0.17.0-py3.6.egg\\fuzzywuzzy\\fuzz.py:11: UserWarning: Using slow pure-python SequenceMatcher. Install python-Levenshtein to remove this warning\n",
      "  warnings.warn('Using slow pure-python SequenceMatcher. Install python-Levenshtein to remove this warning')\n"
     ]
    }
   ],
   "source": [
    "import wosis\n",
    "import pandas as pd\n",
    "import metaknowledge as mk\n",
    "import json"
   ]
  },
  {
   "cell_type": "code",
   "execution_count": 2,
   "metadata": {},
   "outputs": [],
   "source": [
    "# Helper functions for plotting\n",
    "import wosis.analysis.plotting as wos_plot\n",
    "\n",
    "# Analysis and search functions\n",
    "from wosis.analysis import (preview_matches, search_records, keyword_matches, \n",
    "                            find_pubs_by_authors, preview_matches_by_keyword, get_unique_kw_titles,\n",
    "                            remove_by_journals, remove_by_title)\n",
    "\n",
    "# Plotting libraries\n",
    "import matplotlib.pyplot as plt\n",
    "import seaborn as sns\n",
    "\n",
    "# This just helps make the plots look nicer\n",
    "sns.set_style('darkgrid')\n",
    "sns.set_context('paper', font_scale=2.0)"
   ]
  },
  {
   "cell_type": "code",
   "execution_count": 3,
   "metadata": {},
   "outputs": [
    {
     "name": "stdout",
     "output_type": "stream",
     "text": [
      "Corpora consists of 10694 Publications\n"
     ]
    }
   ],
   "source": [
    "# Read in data from temporary cache file\n",
    "query_id = \"_756d39801152fe5f5f4ad3a3df9b6a30\"\n",
    "RC = mk.RecordCollection(\"tmp/{}.txt\".format(query_id))\n",
    "\n",
    "expected_num_records = 10694\n",
    "num_records = len(RC)\n",
    "\n",
    "assert num_records == expected_num_records, \\\n",
    "    \"Mismatch in number of records - expected {}, got {}\".format(expected_num_records, num_records)\n",
    "\n",
    "print(\"Corpora consists of\", num_records, \"Publications\")"
   ]
  },
  {
   "cell_type": "code",
   "execution_count": 4,
   "metadata": {},
   "outputs": [
    {
     "name": "stdout",
     "output_type": "stream",
     "text": [
      "Removing 880 records with no DOIs\n"
     ]
    }
   ],
   "source": [
    "corpora_df = wosis.rec_to_df(RC)\n",
    "\n",
    "corpora_df, removed_pubs = wosis.constrain.remove_empty_DOIs(corpora_df)"
   ]
  },
  {
   "cell_type": "code",
   "execution_count": 5,
   "metadata": {},
   "outputs": [],
   "source": [
    "# removed_pubs"
   ]
  },
  {
   "cell_type": "code",
   "execution_count": 6,
   "metadata": {},
   "outputs": [
    {
     "data": {
      "text/html": [
       "<div>\n",
       "<style scoped>\n",
       "    .dataframe tbody tr th:only-of-type {\n",
       "        vertical-align: middle;\n",
       "    }\n",
       "\n",
       "    .dataframe tbody tr th {\n",
       "        vertical-align: top;\n",
       "    }\n",
       "\n",
       "    .dataframe thead th {\n",
       "        text-align: right;\n",
       "    }\n",
       "</style>\n",
       "<table border=\"1\" class=\"dataframe\">\n",
       "  <thead>\n",
       "    <tr style=\"text-align: right;\">\n",
       "      <th></th>\n",
       "      <th>id</th>\n",
       "      <th>year</th>\n",
       "      <th>title</th>\n",
       "      <th>keywords</th>\n",
       "      <th>abstract</th>\n",
       "      <th>AU</th>\n",
       "      <th>SO</th>\n",
       "      <th>DE</th>\n",
       "      <th>DOI</th>\n",
       "    </tr>\n",
       "  </thead>\n",
       "  <tbody>\n",
       "    <tr>\n",
       "      <th>9421</th>\n",
       "      <td>WOS:000367774700005</td>\n",
       "      <td>2015</td>\n",
       "      <td>Chaospy: An open source tool for designing met...</td>\n",
       "      <td></td>\n",
       "      <td>the paper describes the philosophy design func...</td>\n",
       "      <td>Feinberg, Jonathan|Langtangen, Hans Petter</td>\n",
       "      <td>JOURNAL OF COMPUTATIONAL SCIENCE</td>\n",
       "      <td>uncertainty quantification|polynomial chaos ex...</td>\n",
       "      <td>10.1016/j.jocs.2015.08.008</td>\n",
       "    </tr>\n",
       "  </tbody>\n",
       "</table>\n",
       "</div>"
      ],
      "text/plain": [
       "                       id  year  \\\n",
       "9421  WOS:000367774700005  2015   \n",
       "\n",
       "                                                  title keywords  \\\n",
       "9421  Chaospy: An open source tool for designing met...            \n",
       "\n",
       "                                               abstract  \\\n",
       "9421  the paper describes the philosophy design func...   \n",
       "\n",
       "                                              AU  \\\n",
       "9421  Feinberg, Jonathan|Langtangen, Hans Petter   \n",
       "\n",
       "                                    SO  \\\n",
       "9421  JOURNAL OF COMPUTATIONAL SCIENCE   \n",
       "\n",
       "                                                     DE  \\\n",
       "9421  uncertainty quantification|polynomial chaos ex...   \n",
       "\n",
       "                             DOI  \n",
       "9421  10.1016/j.jocs.2015.08.008  "
      ]
     },
     "execution_count": 6,
     "metadata": {},
     "output_type": "execute_result"
    }
   ],
   "source": [
    "# Checking if expected paper is in corpora\n",
    "corpora_df.loc[corpora_df['DOI'] == '10.1016/j.jocs.2015.08.008', :]"
   ]
  },
  {
   "cell_type": "code",
   "execution_count": 7,
   "metadata": {},
   "outputs": [
    {
     "data": {
      "text/html": [
       "<div>\n",
       "<style scoped>\n",
       "    .dataframe tbody tr th:only-of-type {\n",
       "        vertical-align: middle;\n",
       "    }\n",
       "\n",
       "    .dataframe tbody tr th {\n",
       "        vertical-align: top;\n",
       "    }\n",
       "\n",
       "    .dataframe thead th {\n",
       "        text-align: right;\n",
       "    }\n",
       "</style>\n",
       "<table border=\"1\" class=\"dataframe\">\n",
       "  <thead>\n",
       "    <tr style=\"text-align: right;\">\n",
       "      <th></th>\n",
       "      <th>year</th>\n",
       "      <th>title</th>\n",
       "      <th>AU</th>\n",
       "      <th>SO</th>\n",
       "    </tr>\n",
       "  </thead>\n",
       "  <tbody>\n",
       "    <tr>\n",
       "      <th>0</th>\n",
       "      <td>2017</td>\n",
       "      <td>Correlated Parameters Uncertainty Propagation ...</td>\n",
       "      <td>Razmkhah, Homa|AkhoundAli, Ali-Mohammad|Radman...</td>\n",
       "      <td>ENVIRONMENTAL MODELING &amp; ASSESSMENT</td>\n",
       "    </tr>\n",
       "    <tr>\n",
       "      <th>1</th>\n",
       "      <td>2016</td>\n",
       "      <td>Uncertainty analysis in 2,3,7,8-tetrachlorodib...</td>\n",
       "      <td>Dong, Zhaomin|Yuan, Guanxiang|Hu, Jianying</td>\n",
       "      <td>ENVIRONMENT INTERNATIONAL</td>\n",
       "    </tr>\n",
       "    <tr>\n",
       "      <th>2</th>\n",
       "      <td>2012</td>\n",
       "      <td>A comparison of eight metamodeling techniques ...</td>\n",
       "      <td>Villa-Vialaneix, Nathalie|Follador, Marco|Ratt...</td>\n",
       "      <td>ENVIRONMENTAL MODELLING &amp; SOFTWARE</td>\n",
       "    </tr>\n",
       "    <tr>\n",
       "      <th>3</th>\n",
       "      <td>2017</td>\n",
       "      <td>A Support Vector Machine for Landslide Suscept...</td>\n",
       "      <td>Lee, Saro|Hong, Soo-Min|Jung, Hyung-Sup</td>\n",
       "      <td>SUSTAINABILITY</td>\n",
       "    </tr>\n",
       "    <tr>\n",
       "      <th>4</th>\n",
       "      <td>2011</td>\n",
       "      <td>Social cost-benefit analysis of intensive vers...</td>\n",
       "      <td>Bhattacharya, Poulomi|Ninan, K. N.</td>\n",
       "      <td>NATURAL RESOURCES FORUM</td>\n",
       "    </tr>\n",
       "  </tbody>\n",
       "</table>\n",
       "</div>"
      ],
      "text/plain": [
       "   year                                              title  \\\n",
       "0  2017  Correlated Parameters Uncertainty Propagation ...   \n",
       "1  2016  Uncertainty analysis in 2,3,7,8-tetrachlorodib...   \n",
       "2  2012  A comparison of eight metamodeling techniques ...   \n",
       "3  2017  A Support Vector Machine for Landslide Suscept...   \n",
       "4  2011  Social cost-benefit analysis of intensive vers...   \n",
       "\n",
       "                                                  AU  \\\n",
       "0  Razmkhah, Homa|AkhoundAli, Ali-Mohammad|Radman...   \n",
       "1         Dong, Zhaomin|Yuan, Guanxiang|Hu, Jianying   \n",
       "2  Villa-Vialaneix, Nathalie|Follador, Marco|Ratt...   \n",
       "3            Lee, Saro|Hong, Soo-Min|Jung, Hyung-Sup   \n",
       "4                 Bhattacharya, Poulomi|Ninan, K. N.   \n",
       "\n",
       "                                    SO  \n",
       "0  ENVIRONMENTAL MODELING & ASSESSMENT  \n",
       "1            ENVIRONMENT INTERNATIONAL  \n",
       "2   ENVIRONMENTAL MODELLING & SOFTWARE  \n",
       "3                       SUSTAINABILITY  \n",
       "4              NATURAL RESOURCES FORUM  "
      ]
     },
     "execution_count": 7,
     "metadata": {},
     "output_type": "execute_result"
    }
   ],
   "source": [
    "# Hiding keywords and abstract for tutorial (WoS-owned IP)\n",
    "hide_columns = ['DE', 'abstract', 'keywords', 'DOI', 'id', 'kws']\n",
    "corpora_df.loc[:, ~corpora_df.columns.isin(hide_columns)].head()  # display first 5"
   ]
  },
  {
   "cell_type": "code",
   "execution_count": 8,
   "metadata": {},
   "outputs": [],
   "source": [
    "# Create a new metaknowledge collection\n",
    "filtered_corpora = wosis.extract_recs(corpora_df.loc[:, 'id'], RC, name='Filtered Corpora')"
   ]
  },
  {
   "cell_type": "markdown",
   "metadata": {},
   "source": [
    "<hr>"
   ]
  },
  {
   "cell_type": "markdown",
   "metadata": {},
   "source": [
    "Plot keyword trend"
   ]
  },
  {
   "cell_type": "code",
   "execution_count": 9,
   "metadata": {},
   "outputs": [
    {
     "data": {
      "image/png": "[encoded data removed]",
      "text/plain": [
       "<Figure size 648x432 with 1 Axes>"
      ]
     },
     "metadata": {
      "needs_background": "light"
     },
     "output_type": "display_data"
    }
   ],
   "source": [
    "# Plot out the keyword trend. Can save the plot as an image if you give it a file location (will be saved in PNG format)\n",
    "wos_plot.plot_pub_trend(filtered_corpora, title='Publication Trend', save_plot_fn=False)"
   ]
  },
  {
   "cell_type": "code",
   "execution_count": 10,
   "metadata": {},
   "outputs": [
    {
     "data": {
      "image/png": "[encoded data removed]",
      "text/plain": [
       "<Figure size 1296x432 with 2 Axes>"
      ]
     },
     "metadata": {
      "needs_background": "light"
     },
     "output_type": "display_data"
    }
   ],
   "source": [
    "# Plot out the keyword trend. Can save the plot as an image if you give it a file location (will be saved in PNG format)\n",
    "wos_plot.plot_kw_trend(filtered_corpora, title='Keyword Trend', save_plot_fn=r'C:\\UserData\\douglasd\\project\\biblio\\uasa-trends\\notebooks\\pub_trend.png')"
   ]
  },
  {
   "cell_type": "markdown",
   "metadata": {},
   "source": [
    "<hr>"
   ]
  },
  {
   "cell_type": "markdown",
   "metadata": {},
   "source": [
    "Run topic model"
   ]
  },
  {
   "cell_type": "code",
   "execution_count": 11,
   "metadata": {},
   "outputs": [
    {
     "name": "stdout",
     "output_type": "stream",
     "text": [
      "Topic 1: model uncertainty models parameters analysis data parameter sensitivity method modeling\n",
      "Topic 2: optimization design method topology problem shape algorithm problems proposed optimal\n",
      "Topic 3: energy cycle environmental life emissions production assessment impact waste lca\n",
      "Topic 4: water soil model river climate groundwater quality change runoff flow\n",
      "Topic 5: risk exposure assessment health flood risks human hazard uncertainty vulnerability\n"
     ]
    }
   ],
   "source": [
    "from wosis.analysis import find_topics, get_topic_by_id\n",
    "\n",
    "filtered_corpora_df = wosis.rec_to_df(filtered_corpora)\n",
    "topic_model, trans, feature_names = find_topics(filtered_corpora_df, num_topics=5)"
   ]
  },
  {
   "cell_type": "code",
   "execution_count": 12,
   "metadata": {},
   "outputs": [
    {
     "data": {
      "text/plain": [
       "3895"
      ]
     },
     "execution_count": 12,
     "metadata": {},
     "output_type": "execute_result"
    }
   ],
   "source": [
    "topic_pubs = {\n",
    "    'model': get_topic_by_id(topic_model, trans, 1, filtered_corpora_df),\n",
    "    # 'UA': get_topic_by_id(topic_model, trans, 8, filtered_corpora_df),\n",
    "    # 'SA': get_topic_by_id(topic_model, trans, 20, filtered_corpora_df),    \n",
    "}\n",
    "\n",
    "# len(topic_pubs['model']), len(topic_pubs['UA'])\n",
    "len(topic_pubs['model'])"
   ]
  },
  {
   "cell_type": "code",
   "execution_count": 13,
   "metadata": {},
   "outputs": [
    {
     "name": "stdout",
     "output_type": "stream",
     "text": [
      "Found paper in topic 1\n"
     ]
    }
   ],
   "source": [
    "# find paper of interest - see if it's still in the corpora\n",
    "for i in range(1,26):\n",
    "    topic_set = get_topic_by_id(topic_model, trans, i, filtered_corpora_df)\n",
    "    \n",
    "    topic_recs = wosis.extract_recs(topic_set.loc[:, 'id'], RC, 'Topic of Interest')\n",
    "    tmp_df = pd.DataFrame(topic_recs.forNLP(extraColumns=['DOI']))\n",
    "\n",
    "    if len(tmp_df.loc[tmp_df[\"DOI\"] == '10.1016/j.jocs.2015.08.008', :]) > 0:\n",
    "        print(\"Found paper in topic\", i)\n",
    "        break"
   ]
  },
  {
   "cell_type": "code",
   "execution_count": 14,
   "metadata": {},
   "outputs": [
    {
     "data": {
      "text/html": [
       "<div>\n",
       "<style scoped>\n",
       "    .dataframe tbody tr th:only-of-type {\n",
       "        vertical-align: middle;\n",
       "    }\n",
       "\n",
       "    .dataframe tbody tr th {\n",
       "        vertical-align: top;\n",
       "    }\n",
       "\n",
       "    .dataframe thead th {\n",
       "        text-align: right;\n",
       "    }\n",
       "</style>\n",
       "<table border=\"1\" class=\"dataframe\">\n",
       "  <thead>\n",
       "    <tr style=\"text-align: right;\">\n",
       "      <th></th>\n",
       "      <th>year</th>\n",
       "      <th>title</th>\n",
       "      <th>AU</th>\n",
       "      <th>SO</th>\n",
       "    </tr>\n",
       "  </thead>\n",
       "  <tbody>\n",
       "    <tr>\n",
       "      <th>0</th>\n",
       "      <td>2017</td>\n",
       "      <td>Correlated Parameters Uncertainty Propagation ...</td>\n",
       "      <td>Razmkhah, Homa|AkhoundAli, Ali-Mohammad|Radman...</td>\n",
       "      <td>ENVIRONMENTAL MODELING &amp; ASSESSMENT</td>\n",
       "    </tr>\n",
       "    <tr>\n",
       "      <th>1</th>\n",
       "      <td>2016</td>\n",
       "      <td>Uncertainty analysis in 2,3,7,8-tetrachlorodib...</td>\n",
       "      <td>Dong, Zhaomin|Yuan, Guanxiang|Hu, Jianying</td>\n",
       "      <td>ENVIRONMENT INTERNATIONAL</td>\n",
       "    </tr>\n",
       "    <tr>\n",
       "      <th>2</th>\n",
       "      <td>2012</td>\n",
       "      <td>A comparison of eight metamodeling techniques ...</td>\n",
       "      <td>Villa-Vialaneix, Nathalie|Follador, Marco|Ratt...</td>\n",
       "      <td>ENVIRONMENTAL MODELLING &amp; SOFTWARE</td>\n",
       "    </tr>\n",
       "    <tr>\n",
       "      <th>7</th>\n",
       "      <td>2013</td>\n",
       "      <td>Breast lesion co-localisation between X-ray an...</td>\n",
       "      <td>Lee, Angela W. C.|Rajagopal, Vijayaraghavan|Ga...</td>\n",
       "      <td>MEDICAL IMAGE ANALYSIS</td>\n",
       "    </tr>\n",
       "    <tr>\n",
       "      <th>8</th>\n",
       "      <td>2014</td>\n",
       "      <td>Spline interpolation for modelling of accumula...</td>\n",
       "      <td>Chervenkov, Hristo|Dimov, Ivan|Zlatev, Zahari</td>\n",
       "      <td>INTERNATIONAL JOURNAL OF ENVIRONMENT AND POLLU...</td>\n",
       "    </tr>\n",
       "    <tr>\n",
       "      <th>9</th>\n",
       "      <td>2014</td>\n",
       "      <td>Uncertainty quantification for the impact of i...</td>\n",
       "      <td>Bao, Jie|Chu, Yanjun|Xu, Zhijie|Tartakovsky, A...</td>\n",
       "      <td>INTERNATIONAL JOURNAL OF GREENHOUSE GAS CONTROL</td>\n",
       "    </tr>\n",
       "    <tr>\n",
       "      <th>17</th>\n",
       "      <td>2012</td>\n",
       "      <td>Modeling secondary organic aerosol formation f...</td>\n",
       "      <td>Parikh, Harshal M.|Carlton, Annmarie G.|Zhou, ...</td>\n",
       "      <td>ATMOSPHERIC ENVIRONMENT</td>\n",
       "    </tr>\n",
       "    <tr>\n",
       "      <th>19</th>\n",
       "      <td>2013</td>\n",
       "      <td>Variance Components and Generalized Sobol' Ind...</td>\n",
       "      <td>Owen, Art B.</td>\n",
       "      <td>SIAM-ASA JOURNAL ON UNCERTAINTY QUANTIFICATION</td>\n",
       "    </tr>\n",
       "    <tr>\n",
       "      <th>21</th>\n",
       "      <td>2017</td>\n",
       "      <td>Remarks on multi-fidelity surrogates</td>\n",
       "      <td>Park, Chanyoung|Haftka, Raphael T.|Kim, Nam H.</td>\n",
       "      <td>STRUCTURAL AND MULTIDISCIPLINARY OPTIMIZATION</td>\n",
       "    </tr>\n",
       "    <tr>\n",
       "      <th>22</th>\n",
       "      <td>2013</td>\n",
       "      <td>Uncertainty issues of a conceptual water balan...</td>\n",
       "      <td>Li, Zhanling|Shao, Quanxi|Xu, Zongxue|Xu, Chon...</td>\n",
       "      <td>HYDROLOGICAL PROCESSES</td>\n",
       "    </tr>\n",
       "  </tbody>\n",
       "</table>\n",
       "</div>"
      ],
      "text/plain": [
       "    year                                              title  \\\n",
       "0   2017  Correlated Parameters Uncertainty Propagation ...   \n",
       "1   2016  Uncertainty analysis in 2,3,7,8-tetrachlorodib...   \n",
       "2   2012  A comparison of eight metamodeling techniques ...   \n",
       "7   2013  Breast lesion co-localisation between X-ray an...   \n",
       "8   2014  Spline interpolation for modelling of accumula...   \n",
       "9   2014  Uncertainty quantification for the impact of i...   \n",
       "17  2012  Modeling secondary organic aerosol formation f...   \n",
       "19  2013  Variance Components and Generalized Sobol' Ind...   \n",
       "21  2017               Remarks on multi-fidelity surrogates   \n",
       "22  2013  Uncertainty issues of a conceptual water balan...   \n",
       "\n",
       "                                                   AU  \\\n",
       "0   Razmkhah, Homa|AkhoundAli, Ali-Mohammad|Radman...   \n",
       "1          Dong, Zhaomin|Yuan, Guanxiang|Hu, Jianying   \n",
       "2   Villa-Vialaneix, Nathalie|Follador, Marco|Ratt...   \n",
       "7   Lee, Angela W. C.|Rajagopal, Vijayaraghavan|Ga...   \n",
       "8       Chervenkov, Hristo|Dimov, Ivan|Zlatev, Zahari   \n",
       "9   Bao, Jie|Chu, Yanjun|Xu, Zhijie|Tartakovsky, A...   \n",
       "17  Parikh, Harshal M.|Carlton, Annmarie G.|Zhou, ...   \n",
       "19                                       Owen, Art B.   \n",
       "21     Park, Chanyoung|Haftka, Raphael T.|Kim, Nam H.   \n",
       "22  Li, Zhanling|Shao, Quanxi|Xu, Zongxue|Xu, Chon...   \n",
       "\n",
       "                                                   SO  \n",
       "0                 ENVIRONMENTAL MODELING & ASSESSMENT  \n",
       "1                           ENVIRONMENT INTERNATIONAL  \n",
       "2                  ENVIRONMENTAL MODELLING & SOFTWARE  \n",
       "7                              MEDICAL IMAGE ANALYSIS  \n",
       "8   INTERNATIONAL JOURNAL OF ENVIRONMENT AND POLLU...  \n",
       "9     INTERNATIONAL JOURNAL OF GREENHOUSE GAS CONTROL  \n",
       "17                            ATMOSPHERIC ENVIRONMENT  \n",
       "19     SIAM-ASA JOURNAL ON UNCERTAINTY QUANTIFICATION  \n",
       "21      STRUCTURAL AND MULTIDISCIPLINARY OPTIMIZATION  \n",
       "22                             HYDROLOGICAL PROCESSES  "
      ]
     },
     "execution_count": 14,
     "metadata": {},
     "output_type": "execute_result"
    }
   ],
   "source": [
    "topic_set.loc[:, ~topic_set.columns.isin(hide_columns)].head(10)"
   ]
  },
  {
   "cell_type": "code",
   "execution_count": 15,
   "metadata": {},
   "outputs": [],
   "source": [
    "topic_recs = wosis.extract_recs(topic_set.loc[:, 'id'], RC, 'Topic of Interest')"
   ]
  },
  {
   "cell_type": "code",
   "execution_count": 16,
   "metadata": {},
   "outputs": [
    {
     "data": {
      "text/html": [
       "<div>\n",
       "<style scoped>\n",
       "    .dataframe tbody tr th:only-of-type {\n",
       "        vertical-align: middle;\n",
       "    }\n",
       "\n",
       "    .dataframe tbody tr th {\n",
       "        vertical-align: top;\n",
       "    }\n",
       "\n",
       "    .dataframe thead th {\n",
       "        text-align: right;\n",
       "    }\n",
       "</style>\n",
       "<table border=\"1\" class=\"dataframe\">\n",
       "  <thead>\n",
       "    <tr style=\"text-align: right;\">\n",
       "      <th></th>\n",
       "      <th>id</th>\n",
       "      <th>year</th>\n",
       "      <th>title</th>\n",
       "      <th>keywords</th>\n",
       "      <th>abstract</th>\n",
       "      <th>DOI</th>\n",
       "    </tr>\n",
       "  </thead>\n",
       "  <tbody>\n",
       "    <tr>\n",
       "      <th>2017</th>\n",
       "      <td>WOS:000367774700005</td>\n",
       "      <td>2015</td>\n",
       "      <td>Chaospy: An open source tool for designing met...</td>\n",
       "      <td></td>\n",
       "      <td>the paper describes the philosophy design func...</td>\n",
       "      <td>10.1016/j.jocs.2015.08.008</td>\n",
       "    </tr>\n",
       "  </tbody>\n",
       "</table>\n",
       "</div>"
      ],
      "text/plain": [
       "                       id  year  \\\n",
       "2017  WOS:000367774700005  2015   \n",
       "\n",
       "                                                  title keywords  \\\n",
       "2017  Chaospy: An open source tool for designing met...            \n",
       "\n",
       "                                               abstract  \\\n",
       "2017  the paper describes the philosophy design func...   \n",
       "\n",
       "                             DOI  \n",
       "2017  10.1016/j.jocs.2015.08.008  "
      ]
     },
     "execution_count": 16,
     "metadata": {},
     "output_type": "execute_result"
    }
   ],
   "source": [
    "ua_topic_df = pd.DataFrame(topic_recs.forNLP(extraColumns=[\"DOI\"]))\n",
    "\n",
    "ua_topic_df.loc[ua_topic_df[\"DOI\"] == '10.1016/j.jocs.2015.08.008', :]"
   ]
  },
  {
   "cell_type": "code",
   "execution_count": 17,
   "metadata": {},
   "outputs": [
    {
     "data": {
      "text/plain": [
       "<metaknowledge.WOSRecord object WOS:000367774700005>"
      ]
     },
     "execution_count": 17,
     "metadata": {},
     "output_type": "execute_result"
    }
   ],
   "source": [
    "rec = RC.getID('WOS:000367774700005')\n",
    "rec"
   ]
  },
  {
   "cell_type": "markdown",
   "metadata": {},
   "source": [
    "<hr>"
   ]
  },
  {
   "cell_type": "markdown",
   "metadata": {},
   "source": [
    "Plot journal trend of topic 1, see top publications by citation"
   ]
  },
  {
   "cell_type": "code",
   "execution_count": 18,
   "metadata": {},
   "outputs": [
    {
     "data": {
      "image/png": "[encoded data removed]",
      "text/plain": [
       "<Figure size 432x576 with 10 Axes>"
      ]
     },
     "metadata": {
      "needs_background": "light"
     },
     "output_type": "display_data"
    }
   ],
   "source": [
    "wos_plot.plot_journal_pub_trend(topic_recs)"
   ]
  },
  {
   "cell_type": "code",
   "execution_count": 19,
   "metadata": {},
   "outputs": [
    {
     "data": {
      "image/png": "[encoded data removed]",
      "text/plain": [
       "<Figure size 720x432 with 1 Axes>"
      ]
     },
     "metadata": {
      "needs_background": "light"
     },
     "output_type": "display_data"
    }
   ],
   "source": [
    "wos_plot.plot_pubs_per_journal(topic_recs, top_n=10, annotate=True, show_stats=True)"
   ]
  },
  {
   "cell_type": "code",
   "execution_count": 20,
   "metadata": {},
   "outputs": [
    {
     "data": {
      "text/html": [
       "<div>\n",
       "<style scoped>\n",
       "    .dataframe tbody tr th:only-of-type {\n",
       "        vertical-align: middle;\n",
       "    }\n",
       "\n",
       "    .dataframe tbody tr th {\n",
       "        vertical-align: top;\n",
       "    }\n",
       "\n",
       "    .dataframe thead th {\n",
       "        text-align: right;\n",
       "    }\n",
       "</style>\n",
       "<table border=\"1\" class=\"dataframe\">\n",
       "  <thead>\n",
       "    <tr style=\"text-align: right;\">\n",
       "      <th></th>\n",
       "      <th>Citations</th>\n",
       "    </tr>\n",
       "    <tr>\n",
       "      <th>Publication</th>\n",
       "      <th></th>\n",
       "    </tr>\n",
       "  </thead>\n",
       "  <tbody>\n",
       "    <tr>\n",
       "      <th>Saltelli, A, 2002, Making best use of model evaluations to compute sensitivity indices, COMPUTER PHYSICS COMMUNICATIONS, 145, 280, 26483090</th>\n",
       "      <td>949</td>\n",
       "    </tr>\n",
       "    <tr>\n",
       "      <th>Beven, K, 2001, Equifinality, data assimilation, and uncertainty estimation in mechanistic modelling of complex environmental systems using the GLUE methodology, JOURNAL OF HYDROLOGY, 249, 11, 279450</th>\n",
       "      <td>592</td>\n",
       "    </tr>\n",
       "    <tr>\n",
       "      <th>Xiu, DB, 2005, High-order collocation methods for differential equations with random inputs, SIAM JOURNAL ON SCIENTIFIC COMPUTING, 27, 1118, 65700615</th>\n",
       "      <td>431</td>\n",
       "    </tr>\n",
       "    <tr>\n",
       "      <th>Sobol, I. M., 1993, Sensitivity analysis for nonlinear mathematical models, Math. Model. Comput. Exp., 1, 407, 2602363</th>\n",
       "      <td>288</td>\n",
       "    </tr>\n",
       "    <tr>\n",
       "      <th>Saltelli, Andrea, 2010, How to avoid a perfunctory sensitivity analysis, ENVIRONMENTAL MODELLING &amp; SOFTWARE, 25, 1508, 338424851</th>\n",
       "      <td>263</td>\n",
       "    </tr>\n",
       "    <tr>\n",
       "      <th>Vrugt, Jasper A., 2008, Treatment of input uncertainty in hydrologic modeling: Doing hydrology backward with Markov chain Monte Carlo simulation, WATER RESOURCES RESEARCH, 44, 261812426</th>\n",
       "      <td>257</td>\n",
       "    </tr>\n",
       "    <tr>\n",
       "      <th>Sobol, IM, 2001, Global sensitivity indices for nonlinear mathematical models and their Monte Carlo estimates, MATHEMATICS AND COMPUTERS IN SIMULATION, 55, 271, 1049401</th>\n",
       "      <td>247</td>\n",
       "    </tr>\n",
       "    <tr>\n",
       "      <th>MORRIS, MD, 1991, FACTORIAL SAMPLING PLANS FOR PRELIMINARY COMPUTATIONAL EXPERIMENTS, TECHNOMETRICS, 33, 161, 6699066</th>\n",
       "      <td>228</td>\n",
       "    </tr>\n",
       "    <tr>\n",
       "      <th>Ghanem, R. G., 1991, Stochastic Finite Elements: A Spectral Approach, 277481739</th>\n",
       "      <td>203</td>\n",
       "    </tr>\n",
       "    <tr>\n",
       "      <th>Nash, J. E., 1970, River flow forecasting through conceptual models part I-A discussion of principles, J. Hydrol., 10, 282, 281488</th>\n",
       "      <td>189</td>\n",
       "    </tr>\n",
       "    <tr>\n",
       "      <th>Vrugt, JA, 2002, Validity of first-order approximations to describe parameter uncertainty in soil hydrologic models, SOIL SCIENCE SOCIETY OF AMERICA JOURNAL, 66, 1740, 38749816</th>\n",
       "      <td>188</td>\n",
       "    </tr>\n",
       "    <tr>\n",
       "      <th>MCKAY, MD, 1979, A COMPARISON OF THREE METHODS FOR SELECTING VALUES OF INPUT VARIABLES IN THE ANALYSIS OF OUTPUT FROM A COMPUTER CODE, TECHNOMETRICS, 21, 239, 115518</th>\n",
       "      <td>182</td>\n",
       "    </tr>\n",
       "    <tr>\n",
       "      <th>Saltelli, A., 2000, Sensitivity Analysis, 287467390</th>\n",
       "      <td>170</td>\n",
       "    </tr>\n",
       "    <tr>\n",
       "      <th>HELTON, JC, 1993, UNCERTAINTY AND SENSITIVITY ANALYSIS TECHNIQUES FOR USE IN PERFORMANCE ASSESSMENT FOR RADIOACTIVE-WASTE DISPOSAL, RELIABILITY ENGINEERING &amp; SYSTEM SAFETY, 42, 327, 2602081</th>\n",
       "      <td>159</td>\n",
       "    </tr>\n",
       "    <tr>\n",
       "      <th>Yang, Jing, 2007, Bayesian uncertainty analysis in distributed hydrologic modeling: A case study in the Thur River basin (Switzerland), WATER RESOURCES RESEARCH, 43, 91048818</th>\n",
       "      <td>158</td>\n",
       "    </tr>\n",
       "    <tr>\n",
       "      <th>Wagener, T, 2001, A framework for development and application of hydrological models, HYDROLOGY AND EARTH SYSTEM SCIENCES, 5, 13, 911935</th>\n",
       "      <td>151</td>\n",
       "    </tr>\n",
       "    <tr>\n",
       "      <th>Kuczera, G, 1998, Monte Carlo assessment of parameter uncertainty in conceptual catchment models: the Metropolis algorithm, JOURNAL OF HYDROLOGY, 211, 69, 400278</th>\n",
       "      <td>150</td>\n",
       "    </tr>\n",
       "    <tr>\n",
       "      <th>Campolongo, Francesca, 2007, An effective screening design for sensitivity analysis of large models, ENVIRONMENTAL MODELLING &amp; SOFTWARE, 22, 1509, 76720048</th>\n",
       "      <td>149</td>\n",
       "    </tr>\n",
       "    <tr>\n",
       "      <th>Kennedy, MC, 2001, Bayesian calibration of computer models, JOURNAL OF THE ROYAL STATISTICAL SOCIETY SERIES B-STATISTICAL METHODOLOGY, 63, 425, 400169</th>\n",
       "      <td>146</td>\n",
       "    </tr>\n",
       "    <tr>\n",
       "      <th>Le Maitre, OP, 2004, Multi-resolution analysis of Wiener-type uncertainty propagation schemes, JOURNAL OF COMPUTATIONAL PHYSICS, 197, 502, 47398756</th>\n",
       "      <td>141</td>\n",
       "    </tr>\n",
       "    <tr>\n",
       "      <th>DUAN, QY, 1992, EFFECTIVE AND EFFICIENT GLOBAL OPTIMIZATION FOR CONCEPTUAL RAINFALL-RUNOFF MODELS, WATER RESOURCES RESEARCH, 28, 1015, 280034</th>\n",
       "      <td>135</td>\n",
       "    </tr>\n",
       "    <tr>\n",
       "      <th>Freni, Gabriele, 2008, Uncertainty in urban stormwater quality modelling: The effect of acceptability threshold in the GLUE methodology, WATER RESEARCH, 42, 2061, 87518087</th>\n",
       "      <td>135</td>\n",
       "    </tr>\n",
       "    <tr>\n",
       "      <th>CUKIER, RI, 1978, NON-LINEAR SENSITIVITY ANALYSIS OF MULTI-PARAMETER MODEL SYSTEMS, JOURNAL OF COMPUTATIONAL PHYSICS, 26, 1, 5207054</th>\n",
       "      <td>126</td>\n",
       "    </tr>\n",
       "    <tr>\n",
       "      <th>Homma, T, 1996, Importance measures in global sensitivity analysis of nonlinear models, RELIABILITY ENGINEERING &amp; SYSTEM SAFETY, 52, 1, 2602105</th>\n",
       "      <td>124</td>\n",
       "    </tr>\n",
       "    <tr>\n",
       "      <th>Nobile, F., 2008, An anisotropic sparse grid stochastic collocation method for partial differential equations with random input data, SIAM JOURNAL ON NUMERICAL ANALYSIS, 46, 2411, 93817639</th>\n",
       "      <td>120</td>\n",
       "    </tr>\n",
       "    <tr>\n",
       "      <th>Wiener, N, 1938, The homogeneous chaos, AMERICAN JOURNAL OF MATHEMATICS, 60, 897, 12623070</th>\n",
       "      <td>119</td>\n",
       "    </tr>\n",
       "    <tr>\n",
       "      <th>Ma, Xiang, 2011, A stochastic mixed finite element heterogeneous multiscale method for flow in porous media, JOURNAL OF COMPUTATIONAL PHYSICS, 230, 4696, 412207627</th>\n",
       "      <td>119</td>\n",
       "    </tr>\n",
       "    <tr>\n",
       "      <th>Borgonovo, E., 2008, Moment Independent and Variance-Based Sensitivity Analysis with Correlations: An Application to the Stability of a Chemical Reactor, INTERNATIONAL JOURNAL OF CHEMICAL KINETICS, 40, 687, 93009933</th>\n",
       "      <td>118</td>\n",
       "    </tr>\n",
       "    <tr>\n",
       "      <th>Blatman, Geraud, 2010, Efficient computation of global sensitivity indices using sparse polynomial chaos expansions, RELIABILITY ENGINEERING &amp; SYSTEM SAFETY, 95, 1216, 337645540</th>\n",
       "      <td>117</td>\n",
       "    </tr>\n",
       "    <tr>\n",
       "      <th>IMAN, RL, 1990, A ROBUST MEASURE OF UNCERTAINTY IMPORTANCE FOR USE IN FAULT TREE SYSTEM-ANALYSIS, RISK ANALYSIS, 10, 401, 8122917</th>\n",
       "      <td>112</td>\n",
       "    </tr>\n",
       "    <tr>\n",
       "      <th>Refsgaard, Jens Christian, 2012, Review of strategies for handling geological uncertainty in groundwater flow and transport modeling, ADVANCES IN WATER RESOURCES, 36, 36, 428307362</th>\n",
       "      <td>112</td>\n",
       "    </tr>\n",
       "    <tr>\n",
       "      <th>Gupta, Hoshin V., 2009, Decomposition of the mean squared error and NSE performance criteria: Implications for improving hydrological modelling, JOURNAL OF HYDROLOGY, 377, 80, 275424718</th>\n",
       "      <td>108</td>\n",
       "    </tr>\n",
       "    <tr>\n",
       "      <th>Sudret, Bruno, 2008, Global sensitivity analysis using polynomial chaos expansions, RELIABILITY ENGINEERING &amp; SYSTEM SAFETY, 93, 964, 86397569</th>\n",
       "      <td>108</td>\n",
       "    </tr>\n",
       "    <tr>\n",
       "      <th>Clark, Martyn P., 2008, Hydrological data assimilation with the ensemble Kalman filter: Use of streamflow observations to update states in a distributed hydrological model, ADVANCES IN WATER RESOURCES, 31, 1309, 92976082</th>\n",
       "      <td>105</td>\n",
       "    </tr>\n",
       "    <tr>\n",
       "      <th>Babuska, Ivo, 2007, A stochastic collocation method for elliptic partial differential equations with random input data, SIAM JOURNAL ON NUMERICAL ANALYSIS, 45, 1005, 78761142</th>\n",
       "      <td>104</td>\n",
       "    </tr>\n",
       "    <tr>\n",
       "      <th>Razavi, Saman, 2012, Review of surrogate modeling in water resources, WATER RESOURCES RESEARCH, 48, 436086229</th>\n",
       "      <td>102</td>\n",
       "    </tr>\n",
       "    <tr>\n",
       "      <th>Soize, C, 2005, A comprehensive overview of a non-parametric probabilistic approach of model uncertainties for predictive models in structural dynamics, JOURNAL OF SOUND AND VIBRATION, 288, 623, 61415606</th>\n",
       "      <td>102</td>\n",
       "    </tr>\n",
       "    <tr>\n",
       "      <th>Kavetski, D, 2006, Bayesian analysis of input uncertainty in hydrological modeling: 1. Theory, WATER RESOURCES RESEARCH, 42, 77454001</th>\n",
       "      <td>102</td>\n",
       "    </tr>\n",
       "    <tr>\n",
       "      <th>Rasmussen, CE, 2005, Gaussian Processes for Machine Learning, GAUSSIAN PROCESSES FOR MACHINE LEARNING, 1, 416787748</th>\n",
       "      <td>99</td>\n",
       "    </tr>\n",
       "    <tr>\n",
       "      <th>Gelman, A, 1992, Inference from iterative simulation using multiple sequences, Stat Sci, 7, 457, 253378</th>\n",
       "      <td>98</td>\n",
       "    </tr>\n",
       "    <tr>\n",
       "      <th>Sacks, J., 1989, Design and analysis of computer experiments (with discussion), Statistical Science, 4, 409, 988744</th>\n",
       "      <td>96</td>\n",
       "    </tr>\n",
       "    <tr>\n",
       "      <th>Neuman, SP, 2003, Maximum likelihood Bayesian averaging of uncertain model predictions, STOCHASTIC ENVIRONMENTAL RESEARCH AND RISK ASSESSMENT, 17, 291, 115736</th>\n",
       "      <td>96</td>\n",
       "    </tr>\n",
       "    <tr>\n",
       "      <th>METROPOLIS, N, 1949, THE MONTE CARLO METHOD, JOURNAL OF THE AMERICAN STATISTICAL ASSOCIATION, 44, 335, 5758184</th>\n",
       "      <td>94</td>\n",
       "    </tr>\n",
       "    <tr>\n",
       "      <th>Kitanidis, PK, 1996, On the geostatistical approach to the inverse problem, ADVANCES IN WATER RESOURCES, 19, 333, 228524</th>\n",
       "      <td>93</td>\n",
       "    </tr>\n",
       "    <tr>\n",
       "      <th>van Griensven, A, 2006, Methods to quantify and identify the sources of uncertainty for river basin water quality models, WATER SCIENCE AND TECHNOLOGY, 53, 51, 68247701</th>\n",
       "      <td>92</td>\n",
       "    </tr>\n",
       "    <tr>\n",
       "      <th>Tang, Y., 2007, Advancing the identification and evaluation of distributed rainfall-runoff models using global sensitivity analysis, WATER RESOURCES RESEARCH, 43, 93030518</th>\n",
       "      <td>91</td>\n",
       "    </tr>\n",
       "    <tr>\n",
       "      <th>ZADEH, LA, 1965, FUZZY SETS, INFORMATION AND CONTROL, 8, 338, 107908</th>\n",
       "      <td>90</td>\n",
       "    </tr>\n",
       "    <tr>\n",
       "      <th>Gelman, A., 2007, Data Analysis Using Regression and Multilevel Hierarchical Models, 287555469</th>\n",
       "      <td>88</td>\n",
       "    </tr>\n",
       "    <tr>\n",
       "      <th>Oakley, JE, 2004, Probabilistic sensitivity analysis of complex models: a Bayesian approach, JOURNAL OF THE ROYAL STATISTICAL SOCIETY SERIES B-STATISTICAL METHODOLOGY, 66, 751, 48042774</th>\n",
       "      <td>86</td>\n",
       "    </tr>\n",
       "    <tr>\n",
       "      <th>Xiu, D, 2010, Numerical Methods for Stochastic Computations: A Spectral Method Approach, NUMERICAL METHODS FOR STOCHASTIC COMPUTATIONS: A SPECTRAL METHOD APPROACH, 1, 432795715</th>\n",
       "      <td>85</td>\n",
       "    </tr>\n",
       "  </tbody>\n",
       "</table>\n",
       "</div>"
      ],
      "text/plain": [
       "                                                    Citations\n",
       "Publication                                                  \n",
       "Saltelli, A, 2002, Making best use of model eva...        949\n",
       "Beven, K, 2001, Equifinality, data assimilation...        592\n",
       "Xiu, DB, 2005, High-order collocation methods f...        431\n",
       "Sobol, I. M., 1993, Sensitivity analysis for no...        288\n",
       "Saltelli, Andrea, 2010, How to avoid a perfunct...        263\n",
       "Vrugt, Jasper A., 2008, Treatment of input unce...        257\n",
       "Sobol, IM, 2001, Global sensitivity indices for...        247\n",
       "MORRIS, MD, 1991, FACTORIAL SAMPLING PLANS FOR ...        228\n",
       "Ghanem, R. G., 1991, Stochastic Finite Elements...        203\n",
       "Nash, J. E., 1970, River flow forecasting throu...        189\n",
       "Vrugt, JA, 2002, Validity of first-order approx...        188\n",
       "MCKAY, MD, 1979, A COMPARISON OF THREE METHODS ...        182\n",
       "Saltelli, A., 2000, Sensitivity Analysis, 28746...        170\n",
       "HELTON, JC, 1993, UNCERTAINTY AND SENSITIVITY A...        159\n",
       "Yang, Jing, 2007, Bayesian uncertainty analysis...        158\n",
       "Wagener, T, 2001, A framework for development a...        151\n",
       "Kuczera, G, 1998, Monte Carlo assessment of par...        150\n",
       "Campolongo, Francesca, 2007, An effective scree...        149\n",
       "Kennedy, MC, 2001, Bayesian calibration of comp...        146\n",
       "Le Maitre, OP, 2004, Multi-resolution analysis ...        141\n",
       "DUAN, QY, 1992, EFFECTIVE AND EFFICIENT GLOBAL ...        135\n",
       "Freni, Gabriele, 2008, Uncertainty in urban sto...        135\n",
       "CUKIER, RI, 1978, NON-LINEAR SENSITIVITY ANALYS...        126\n",
       "Homma, T, 1996, Importance measures in global s...        124\n",
       "Nobile, F., 2008, An anisotropic sparse grid st...        120\n",
       "Wiener, N, 1938, The homogeneous chaos, AMERICA...        119\n",
       "Ma, Xiang, 2011, A stochastic mixed finite elem...        119\n",
       "Borgonovo, E., 2008, Moment Independent and Var...        118\n",
       "Blatman, Geraud, 2010, Efficient computation of...        117\n",
       "IMAN, RL, 1990, A ROBUST MEASURE OF UNCERTAINTY...        112\n",
       "Refsgaard, Jens Christian, 2012, Review of stra...        112\n",
       "Gupta, Hoshin V., 2009, Decomposition of the me...        108\n",
       "Sudret, Bruno, 2008, Global sensitivity analysi...        108\n",
       "Clark, Martyn P., 2008, Hydrological data assim...        105\n",
       "Babuska, Ivo, 2007, A stochastic collocation me...        104\n",
       "Razavi, Saman, 2012, Review of surrogate modeli...        102\n",
       "Soize, C, 2005, A comprehensive overview of a n...        102\n",
       "Kavetski, D, 2006, Bayesian analysis of input u...        102\n",
       "Rasmussen, CE, 2005, Gaussian Processes for Mac...         99\n",
       "Gelman, A, 1992, Inference from iterative simul...         98\n",
       "Sacks, J., 1989, Design and analysis of compute...         96\n",
       "Neuman, SP, 2003, Maximum likelihood Bayesian a...         96\n",
       "METROPOLIS, N, 1949, THE MONTE CARLO METHOD, JO...         94\n",
       "Kitanidis, PK, 1996, On the geostatistical appr...         93\n",
       "van Griensven, A, 2006, Methods to quantify and...         92\n",
       "Tang, Y., 2007, Advancing the identification an...         91\n",
       "ZADEH, LA, 1965, FUZZY SETS, INFORMATION AND CO...         90\n",
       "Gelman, A., 2007, Data Analysis Using Regressio...         88\n",
       "Oakley, JE, 2004, Probabilistic sensitivity ana...         86\n",
       "Xiu, D, 2010, Numerical Methods for Stochastic ...         85"
      ]
     },
     "execution_count": 20,
     "metadata": {},
     "output_type": "execute_result"
    }
   ],
   "source": [
    "wosis.analysis.pub_citations(topic_recs)[0:50]\n",
    "#ideas: could take first 1000 by citation number, but higher citations would favour older papers.  Taking by year?\n",
    "#or simply choose first 1000 matches?"
   ]
  },
  {
   "cell_type": "code",
   "execution_count": 21,
   "metadata": {},
   "outputs": [
    {
     "data": {
      "text/html": [
       "<div>\n",
       "<style scoped>\n",
       "    .dataframe tbody tr th:only-of-type {\n",
       "        vertical-align: middle;\n",
       "    }\n",
       "\n",
       "    .dataframe tbody tr th {\n",
       "        vertical-align: top;\n",
       "    }\n",
       "\n",
       "    .dataframe thead th {\n",
       "        text-align: right;\n",
       "    }\n",
       "</style>\n",
       "<table border=\"1\" class=\"dataframe\">\n",
       "  <thead>\n",
       "    <tr style=\"text-align: right;\">\n",
       "      <th></th>\n",
       "      <th>year</th>\n",
       "      <th>title</th>\n",
       "      <th>AU</th>\n",
       "      <th>SO</th>\n",
       "      <th>DOI link</th>\n",
       "    </tr>\n",
       "  </thead>\n",
       "  <tbody>\n",
       "    <tr>\n",
       "      <th>0</th>\n",
       "      <td>2012</td>\n",
       "      <td>Sensitivity Analysis of a Combined Groundwater...</td>\n",
       "      <td>Gedeon, Matej|Mallants, Dirk</td>\n",
       "      <td>MATHEMATICAL GEOSCIENCES</td>\n",
       "      <td>https://dx.doi.org/10.1007/s11004-012-9416-3</td>\n",
       "    </tr>\n",
       "    <tr>\n",
       "      <th>1</th>\n",
       "      <td>2017</td>\n",
       "      <td>Correlated Parameters Uncertainty Propagation ...</td>\n",
       "      <td>Razmkhah, Homa|AkhoundAli, Ali-Mohammad|Radman...</td>\n",
       "      <td>ENVIRONMENTAL MODELING &amp; ASSESSMENT</td>\n",
       "      <td>https://dx.doi.org/10.1007/s10666-017-9569-z</td>\n",
       "    </tr>\n",
       "    <tr>\n",
       "      <th>2</th>\n",
       "      <td>2016</td>\n",
       "      <td>Uncertainty analysis in 2,3,7,8-tetrachlorodib...</td>\n",
       "      <td>Dong, Zhaomin|Yuan, Guanxiang|Hu, Jianying</td>\n",
       "      <td>ENVIRONMENT INTERNATIONAL</td>\n",
       "      <td>https://dx.doi.org/10.1016/j.envint.2015.12.010</td>\n",
       "    </tr>\n",
       "    <tr>\n",
       "      <th>3</th>\n",
       "      <td>2016</td>\n",
       "      <td>Optimal control of methicillin-resistant Staph...</td>\n",
       "      <td>Agusto, F. B.</td>\n",
       "      <td>APPLIED MATHEMATICAL MODELLING</td>\n",
       "      <td>https://dx.doi.org/10.1016/j.apm.2015.12.006</td>\n",
       "    </tr>\n",
       "    <tr>\n",
       "      <th>4</th>\n",
       "      <td>2016</td>\n",
       "      <td>Sensitivity of a third generation wave model t...</td>\n",
       "      <td>Siadatmousavi, S. Mostafa|Jose, Felix|da Silva...</td>\n",
       "      <td>COMPUTERS &amp; GEOSCIENCES</td>\n",
       "      <td>https://dx.doi.org/10.1016/j.cageo.2015.09.025</td>\n",
       "    </tr>\n",
       "    <tr>\n",
       "      <th>5</th>\n",
       "      <td>2012</td>\n",
       "      <td>A comparison of eight metamodeling techniques ...</td>\n",
       "      <td>Villa-Vialaneix, Nathalie|Follador, Marco|Ratt...</td>\n",
       "      <td>ENVIRONMENTAL MODELLING &amp; SOFTWARE</td>\n",
       "      <td>https://dx.doi.org/10.1016/j.envsoft.2011.05.003</td>\n",
       "    </tr>\n",
       "    <tr>\n",
       "      <th>6</th>\n",
       "      <td>2015</td>\n",
       "      <td>Parallel tensor sampling in the hierarchical T...</td>\n",
       "      <td>Grasedyck, Lars|Kriemann, Ronald|Loebbert, Chr...</td>\n",
       "      <td>COMPUTING AND VISUALIZATION IN SCIENCE</td>\n",
       "      <td>https://dx.doi.org/10.1007/s00791-015-0247-x</td>\n",
       "    </tr>\n",
       "    <tr>\n",
       "      <th>7</th>\n",
       "      <td>2013</td>\n",
       "      <td>Breast lesion co-localisation between X-ray an...</td>\n",
       "      <td>Lee, Angela W. C.|Rajagopal, Vijayaraghavan|Ga...</td>\n",
       "      <td>MEDICAL IMAGE ANALYSIS</td>\n",
       "      <td>https://dx.doi.org/10.1016/j.media.2013.05.011</td>\n",
       "    </tr>\n",
       "    <tr>\n",
       "      <th>8</th>\n",
       "      <td>2014</td>\n",
       "      <td>Spline interpolation for modelling of accumula...</td>\n",
       "      <td>Chervenkov, Hristo|Dimov, Ivan|Zlatev, Zahari</td>\n",
       "      <td>INTERNATIONAL JOURNAL OF ENVIRONMENT AND POLLU...</td>\n",
       "      <td>https://dx.doi.org/10.1504/IJEP.2014.064048</td>\n",
       "    </tr>\n",
       "    <tr>\n",
       "      <th>9</th>\n",
       "      <td>2014</td>\n",
       "      <td>Uncertainty quantification for the impact of i...</td>\n",
       "      <td>Bao, Jie|Chu, Yanjun|Xu, Zhijie|Tartakovsky, A...</td>\n",
       "      <td>INTERNATIONAL JOURNAL OF GREENHOUSE GAS CONTROL</td>\n",
       "      <td>https://dx.doi.org/10.1016/j.ijggc.2013.10.023</td>\n",
       "    </tr>\n",
       "  </tbody>\n",
       "</table>\n",
       "</div>"
      ],
      "text/plain": [
       "   year                                              title  \\\n",
       "0  2012  Sensitivity Analysis of a Combined Groundwater...   \n",
       "1  2017  Correlated Parameters Uncertainty Propagation ...   \n",
       "2  2016  Uncertainty analysis in 2,3,7,8-tetrachlorodib...   \n",
       "3  2016  Optimal control of methicillin-resistant Staph...   \n",
       "4  2016  Sensitivity of a third generation wave model t...   \n",
       "5  2012  A comparison of eight metamodeling techniques ...   \n",
       "6  2015  Parallel tensor sampling in the hierarchical T...   \n",
       "7  2013  Breast lesion co-localisation between X-ray an...   \n",
       "8  2014  Spline interpolation for modelling of accumula...   \n",
       "9  2014  Uncertainty quantification for the impact of i...   \n",
       "\n",
       "                                                  AU  \\\n",
       "0                       Gedeon, Matej|Mallants, Dirk   \n",
       "1  Razmkhah, Homa|AkhoundAli, Ali-Mohammad|Radman...   \n",
       "2         Dong, Zhaomin|Yuan, Guanxiang|Hu, Jianying   \n",
       "3                                      Agusto, F. B.   \n",
       "4  Siadatmousavi, S. Mostafa|Jose, Felix|da Silva...   \n",
       "5  Villa-Vialaneix, Nathalie|Follador, Marco|Ratt...   \n",
       "6  Grasedyck, Lars|Kriemann, Ronald|Loebbert, Chr...   \n",
       "7  Lee, Angela W. C.|Rajagopal, Vijayaraghavan|Ga...   \n",
       "8      Chervenkov, Hristo|Dimov, Ivan|Zlatev, Zahari   \n",
       "9  Bao, Jie|Chu, Yanjun|Xu, Zhijie|Tartakovsky, A...   \n",
       "\n",
       "                                                  SO  \\\n",
       "0                           MATHEMATICAL GEOSCIENCES   \n",
       "1                ENVIRONMENTAL MODELING & ASSESSMENT   \n",
       "2                          ENVIRONMENT INTERNATIONAL   \n",
       "3                     APPLIED MATHEMATICAL MODELLING   \n",
       "4                            COMPUTERS & GEOSCIENCES   \n",
       "5                 ENVIRONMENTAL MODELLING & SOFTWARE   \n",
       "6             COMPUTING AND VISUALIZATION IN SCIENCE   \n",
       "7                             MEDICAL IMAGE ANALYSIS   \n",
       "8  INTERNATIONAL JOURNAL OF ENVIRONMENT AND POLLU...   \n",
       "9    INTERNATIONAL JOURNAL OF GREENHOUSE GAS CONTROL   \n",
       "\n",
       "                                           DOI link  \n",
       "0      https://dx.doi.org/10.1007/s11004-012-9416-3  \n",
       "1      https://dx.doi.org/10.1007/s10666-017-9569-z  \n",
       "2   https://dx.doi.org/10.1016/j.envint.2015.12.010  \n",
       "3      https://dx.doi.org/10.1016/j.apm.2015.12.006  \n",
       "4    https://dx.doi.org/10.1016/j.cageo.2015.09.025  \n",
       "5  https://dx.doi.org/10.1016/j.envsoft.2011.05.003  \n",
       "6      https://dx.doi.org/10.1007/s00791-015-0247-x  \n",
       "7    https://dx.doi.org/10.1016/j.media.2013.05.011  \n",
       "8       https://dx.doi.org/10.1504/IJEP.2014.064048  \n",
       "9    https://dx.doi.org/10.1016/j.ijggc.2013.10.023  "
      ]
     },
     "execution_count": 21,
     "metadata": {},
     "output_type": "execute_result"
    }
   ],
   "source": [
    "topic_df = wosis.link_to_pub(topic_recs)  # Creates a new column called 'DOI link'\n",
    "topic_df.loc[:, ~topic_df.columns.isin(hide_columns)].head(10)"
   ]
  },
  {
   "cell_type": "markdown",
   "metadata": {},
   "source": [
    "<hr>"
   ]
  },
  {
   "cell_type": "markdown",
   "metadata": {},
   "source": [
    "Further analysis of topic model results: <br>\n",
    "- Search papers in topic of interest by keyword\n",
    "- Run criteria search on topic of interest\n",
    "- Want to list these papers into a table to export to csv, this was formally achieved in an old notebook\n",
    "- Plot trend in criteria matches"
   ]
  },
  {
   "cell_type": "code",
   "execution_count": 22,
   "metadata": {},
   "outputs": [
    {
     "data": {
      "text/html": [
       "<div>\n",
       "<style scoped>\n",
       "    .dataframe tbody tr th:only-of-type {\n",
       "        vertical-align: middle;\n",
       "    }\n",
       "\n",
       "    .dataframe tbody tr th {\n",
       "        vertical-align: top;\n",
       "    }\n",
       "\n",
       "    .dataframe thead th {\n",
       "        text-align: right;\n",
       "    }\n",
       "</style>\n",
       "<table border=\"1\" class=\"dataframe\">\n",
       "  <thead>\n",
       "    <tr style=\"text-align: right;\">\n",
       "      <th></th>\n",
       "      <th>id</th>\n",
       "      <th>year</th>\n",
       "      <th>title</th>\n",
       "      <th>keywords</th>\n",
       "      <th>abstract</th>\n",
       "      <th>DOI</th>\n",
       "    </tr>\n",
       "  </thead>\n",
       "  <tbody>\n",
       "    <tr>\n",
       "      <th>3</th>\n",
       "      <td>WOS:000374367500035</td>\n",
       "      <td>2016</td>\n",
       "      <td>Optimal control of methicillin-resistant Staph...</td>\n",
       "      <td>RANDOMIZED CLINICAL-TRIAL|SENSITIVITY-ANALYSIS...</td>\n",
       "      <td>methicillinresistant staphylococcus aureus mrs...</td>\n",
       "      <td>10.1016/j.apm.2015.12.006</td>\n",
       "    </tr>\n",
       "    <tr>\n",
       "      <th>13</th>\n",
       "      <td>WOS:000303094300009</td>\n",
       "      <td>2012</td>\n",
       "      <td>Model emulation and moment-independent sensiti...</td>\n",
       "      <td>UNCERTAINTY IMPORTANCE MEASURE|POLYNOMIAL CHAO...</td>\n",
       "      <td>momentindependent sensitivity methods are attr...</td>\n",
       "      <td>10.1016/j.envsoft.2011.06.006</td>\n",
       "    </tr>\n",
       "    <tr>\n",
       "      <th>18</th>\n",
       "      <td>WOS:000396233500009</td>\n",
       "      <td>2017</td>\n",
       "      <td>Calibration of the 1D shallow water equations:...</td>\n",
       "      <td>ADJOINT SENSITIVITY-ANALYSIS|OPEN-CHANNEL|ROUG...</td>\n",
       "      <td>the calibration of parameters in complex syste...</td>\n",
       "      <td>10.2166/hydro.2017.021</td>\n",
       "    </tr>\n",
       "    <tr>\n",
       "      <th>19</th>\n",
       "      <td>WOS:000293234900003</td>\n",
       "      <td>2011</td>\n",
       "      <td>The role of statistics in the analysis of ecos...</td>\n",
       "      <td>BAYESIAN NETWORK|MODELING APPROACH|DECISION-MA...</td>\n",
       "      <td>operationalising the holistic approach implici...</td>\n",
       "      <td>10.1002/env.1107</td>\n",
       "    </tr>\n",
       "    <tr>\n",
       "      <th>28</th>\n",
       "      <td>WOS:000313593500015</td>\n",
       "      <td>2013</td>\n",
       "      <td>Uncertainty issues of a conceptual water balan...</td>\n",
       "      <td>FORMAL BAYESIAN METHOD|PARAMETER UNCERTAINTY|H...</td>\n",
       "      <td>hydrological models are useful tools for bette...</td>\n",
       "      <td>10.1002/hyp.9258</td>\n",
       "    </tr>\n",
       "  </tbody>\n",
       "</table>\n",
       "</div>"
      ],
      "text/plain": [
       "                     id  year  \\\n",
       "3   WOS:000374367500035  2016   \n",
       "13  WOS:000303094300009  2012   \n",
       "18  WOS:000396233500009  2017   \n",
       "19  WOS:000293234900003  2011   \n",
       "28  WOS:000313593500015  2013   \n",
       "\n",
       "                                                title  \\\n",
       "3   Optimal control of methicillin-resistant Staph...   \n",
       "13  Model emulation and moment-independent sensiti...   \n",
       "18  Calibration of the 1D shallow water equations:...   \n",
       "19  The role of statistics in the analysis of ecos...   \n",
       "28  Uncertainty issues of a conceptual water balan...   \n",
       "\n",
       "                                             keywords  \\\n",
       "3   RANDOMIZED CLINICAL-TRIAL|SENSITIVITY-ANALYSIS...   \n",
       "13  UNCERTAINTY IMPORTANCE MEASURE|POLYNOMIAL CHAO...   \n",
       "18  ADJOINT SENSITIVITY-ANALYSIS|OPEN-CHANNEL|ROUG...   \n",
       "19  BAYESIAN NETWORK|MODELING APPROACH|DECISION-MA...   \n",
       "28  FORMAL BAYESIAN METHOD|PARAMETER UNCERTAINTY|H...   \n",
       "\n",
       "                                             abstract  \\\n",
       "3   methicillinresistant staphylococcus aureus mrs...   \n",
       "13  momentindependent sensitivity methods are attr...   \n",
       "18  the calibration of parameters in complex syste...   \n",
       "19  operationalising the holistic approach implici...   \n",
       "28  hydrological models are useful tools for bette...   \n",
       "\n",
       "                              DOI  \n",
       "3       10.1016/j.apm.2015.12.006  \n",
       "13  10.1016/j.envsoft.2011.06.006  \n",
       "18         10.2166/hydro.2017.021  \n",
       "19               10.1002/env.1107  \n",
       "28               10.1002/hyp.9258  "
      ]
     },
     "execution_count": 22,
     "metadata": {},
     "output_type": "execute_result"
    }
   ],
   "source": [
    "# find papers of interest - having certain keywords\n",
    "\n",
    "topic_set = get_topic_by_id(topic_model, trans, 2, filtered_corpora_df)\n",
    "\n",
    "topic_recs = wosis.extract_recs(topic_set.loc[:, 'id'], RC, 'Topic of Interest')\n",
    "# tmp_df = pd.DataFrame(topic_recs.forNLP(extraColumns=['DE']))\n",
    "# need this next command to be keywords including ... eg uncertainty\n",
    "\n",
    "tmp_df.loc[tmp_df[\"keywords\"].str.contains(\"UNCERTAINTY\"), :].head()\n",
    "# some more ideas: filter topic 2 by papers with sensitivity in title/keywords/abstract to decrease size of dataset.\n",
    "# might work for topic 1 as well?"
   ]
  },
  {
   "cell_type": "code",
   "execution_count": 23,
   "metadata": {},
   "outputs": [],
   "source": [
    "#want to see trend of global SA over years\n",
    "#also should make a table of papers, see below\n",
    "criteria = {\n",
    "    'LSA': set(['local sensitivity analysis', 'LSA', 'local sensitivity']),\n",
    "    'GSA': set(['global sensitivity analysis', 'GSA', 'global sensitivity']),\n",
    "    'OAT': set(['one-at-a-time', 'OAT'])\n",
    "}\n",
    "\n",
    "crit_matches, crit_summary = wosis.keyword_matches_by_criteria(filtered_corpora, criteria, threshold=95.0)"
   ]
  },
  {
   "cell_type": "code",
   "execution_count": 24,
   "metadata": {},
   "outputs": [
    {
     "data": {
      "image/png": "[encoded data removed]",
      "text/plain": [
       "<Figure size 432x288 with 1 Axes>"
      ]
     },
     "metadata": {
      "needs_background": "light"
     },
     "output_type": "display_data"
    }
   ],
   "source": [
    "criteria_df = wosis.collate_keyword_criteria_matches(filtered_corpora, crit_matches)\n",
    "wos_plot.plot_criteria_trend(criteria_df, threshold=2, save_plot_fn=r'C:\\UserData\\douglasd\\project\\biblio\\uasa-trends\\notebooks\\kw_trend.png')"
   ]
  },
  {
   "cell_type": "code",
   "execution_count": 25,
   "metadata": {},
   "outputs": [
    {
     "data": {
      "text/plain": [
       "id                    9814\n",
       "year                  9814\n",
       "title                 9814\n",
       "keywords              9814\n",
       "abstract              9814\n",
       "num_criteria_match    9814\n",
       "dtype: int64"
      ]
     },
     "execution_count": 25,
     "metadata": {},
     "output_type": "execute_result"
    }
   ],
   "source": [
    "criteria_df.count()"
   ]
  },
  {
   "cell_type": "code",
   "execution_count": 26,
   "metadata": {},
   "outputs": [
    {
     "data": {
      "text/plain": [
       "<matplotlib.axes._subplots.AxesSubplot at 0x20d75b24a20>"
      ]
     },
     "execution_count": 26,
     "metadata": {},
     "output_type": "execute_result"
    },
    {
     "data": {
      "image/png": "[encoded data removed]",
      "text/plain": [
       "<Figure size 432x288 with 1 Axes>"
      ]
     },
     "metadata": {
      "needs_background": "light"
     },
     "output_type": "display_data"
    }
   ],
   "source": [
    "#want to view the papers in the above plot\n",
    "crit_trend_tmp = criteria_df.loc[criteria_df['num_criteria_match'] > 1, ~criteria_df.columns.isin(hide_columns)]\n",
    "#criteria_trend.loc[:, criteria_trend.columns.isin(hide_columns)].head(10)\n",
    "\n",
    "\n",
    "crit_trend_tmp.groupby('year').count()['title'].plot(kind='bar')"
   ]
  },
  {
   "cell_type": "code",
   "execution_count": 27,
   "metadata": {},
   "outputs": [
    {
     "data": {
      "text/plain": [
       "74            Making sense of global sensitivity analyses\n",
       "368     SensSB: a software toolbox for the development...\n",
       "716     Necessary condition for applying experimental ...\n",
       "1246    Predicting the fate of micropollutants during ...\n",
       "1620    Global sensitivity of structural variability b...\n",
       "2139    Evaluating the Use of Global Sensitivity Analy...\n",
       "2345    Sensitivity analysis of reference evapotranspi...\n",
       "2715    Assessment of parametric uncertainty for groun...\n",
       "4593    Global Sensitivity-Based Model Updating for He...\n",
       "5488    Modeling Nitrogen Dynamics in a Waste Stabiliz...\n",
       "5659    The use of global sensitivity analysis for imp...\n",
       "6143    Distributed Evaluation of Local Sensitivity An...\n",
       "6233    Parameter Sensitivity of a Surface Water Quali...\n",
       "6948    Practical identifiability and uncertainty anal...\n",
       "7133    Global sensitivity analysis: A flexible and ef...\n",
       "7530    A non-probabilistic methodology for reliable s...\n",
       "8118    Assessing greenhouse gas emissions of milk pro...\n",
       "8361    Quantitative global sensitivity analysis of th...\n",
       "8376    Developing a robust assessment system for the ...\n",
       "8486    Sensitivity analysis of related parameters in ...\n",
       "9096    Three complementary methods for sensitivity an...\n",
       "Name: title, dtype: object"
      ]
     },
     "execution_count": 27,
     "metadata": {},
     "output_type": "execute_result"
    }
   ],
   "source": [
    "crit_trend_tmp['title']"
   ]
  },
  {
   "cell_type": "code",
   "execution_count": 28,
   "metadata": {},
   "outputs": [],
   "source": [
    "?wosis.keyword_matches"
   ]
  },
  {
   "cell_type": "code",
   "execution_count": 29,
   "metadata": {},
   "outputs": [],
   "source": [
    "lsa_recs, lsa_summary = wosis.keyword_matches(filtered_corpora, criteria['LSA'], threshold=95.0)"
   ]
  },
  {
   "cell_type": "code",
   "execution_count": 30,
   "metadata": {},
   "outputs": [],
   "source": [
    "from functools import reduce"
   ]
  },
  {
   "cell_type": "code",
   "execution_count": 31,
   "metadata": {},
   "outputs": [],
   "source": [
    "lsa_collated = reduce(lambda x, y: x + y, list(lsa_recs.values()))"
   ]
  },
  {
   "cell_type": "code",
   "execution_count": 32,
   "metadata": {},
   "outputs": [],
   "source": [
    "lsa_df = wosis.rec_to_df(lsa_collated)"
   ]
  },
  {
   "cell_type": "code",
   "execution_count": 33,
   "metadata": {},
   "outputs": [],
   "source": [
    "gsa_recs, gsa_summary = wosis.keyword_matches(filtered_corpora, criteria['GSA'], threshold=95.0)\n",
    "gsa_collated = reduce(lambda x, y: x + y, list(gsa_recs.values()))\n",
    "gsa_df = wosis.rec_to_df(gsa_collated)"
   ]
  },
  {
   "cell_type": "code",
   "execution_count": 34,
   "metadata": {},
   "outputs": [],
   "source": [
    "oat_recs, oat_summary = wosis.keyword_matches(filtered_corpora, criteria['OAT'], threshold=95.0)\n",
    "oat_collated = reduce(lambda x, y: x + y, list(oat_recs.values()))\n",
    "oat_df = wosis.rec_to_df(oat_collated)"
   ]
  },
  {
   "cell_type": "code",
   "execution_count": 35,
   "metadata": {},
   "outputs": [
    {
     "data": {
      "text/plain": [
       "<matplotlib.axes._subplots.AxesSubplot at 0x20d76c1a748>"
      ]
     },
     "execution_count": 35,
     "metadata": {},
     "output_type": "execute_result"
    },
    {
     "data": {
      "image/png": "[encoded data removed]",
      "text/plain": [
       "<Figure size 432x288 with 1 Axes>"
      ]
     },
     "metadata": {
      "needs_background": "light"
     },
     "output_type": "display_data"
    }
   ],
   "source": [
    "ax = lsa_df.groupby('year').count()['title'].plot(label=\"LSA\", legend=True)\n",
    "ax = gsa_df.groupby(\"year\").count()['title'].plot(ax=ax, label=\"GSA\", legend=True)\n",
    "oat_df.groupby(\"year\").count()['title'].plot(ax=ax, label=\"OAT\", legend=True)"
   ]
  },
  {
   "cell_type": "code",
   "execution_count": null,
   "metadata": {},
   "outputs": [],
   "source": []
  }
 ],
 "metadata": {
  "kernelspec": {
   "display_name": "biblio",
   "language": "python",
   "name": "biblio"
  },
  "language_info": {
   "codemirror_mode": {
    "name": "ipython",
    "version": 3
   },
   "file_extension": ".py",
   "mimetype": "text/x-python",
   "name": "python",
   "nbconvert_exporter": "python",
   "pygments_lexer": "ipython3",
   "version": "3.6.6"
  }
 },
 "nbformat": 4,
 "nbformat_minor": 2
}
