{
 "cells": [
  {
   "cell_type": "markdown",
   "metadata": {},
   "source": [
    "Initial set up, including search terms."
   ]
  },
  {
   "cell_type": "code",
   "execution_count": 1,
   "metadata": {},
   "outputs": [],
   "source": [
    "import sys"
   ]
  },
  {
   "cell_type": "code",
   "execution_count": 2,
   "metadata": {},
   "outputs": [
    {
     "name": "stderr",
     "output_type": "stream",
     "text": [
      "C:\\Users\\douglasd\\AppData\\Local\\Continuum\\miniconda3\\envs\\biblio\\lib\\site-packages\\fuzzywuzzy-0.17.0-py3.6.egg\\fuzzywuzzy\\fuzz.py:11: UserWarning: Using slow pure-python SequenceMatcher. Install python-Levenshtein to remove this warning\n",
      "  warnings.warn('Using slow pure-python SequenceMatcher. Install python-Levenshtein to remove this warning')\n"
     ]
    }
   ],
   "source": [
    "import wosis\n",
    "import pandas as pd\n",
    "import metaknowledge as mk\n",
    "import json"
   ]
  },
  {
   "cell_type": "code",
   "execution_count": 3,
   "metadata": {},
   "outputs": [],
   "source": [
    "wos_config = wosis.load_config(\"config.yml\")"
   ]
  },
  {
   "cell_type": "code",
   "execution_count": 4,
   "metadata": {},
   "outputs": [],
   "source": [
    "search_terms={\n",
    "    \"inclusive_kw\":(\"sensitivity analysis\", \"uncertainty analysis\", \"uncertainty quantification\", \"uncertainty propagation\", \n",
    "                    \"local sensitivity analysis\", \"LSA\", \"one-at-a-time\", 'exploratory modeling',\n",
    "                    \"OAT\", \"global sensitivity analysis\", \"GSA\", \"all-at-a-time\", \"AAT\"),\n",
    "\"subject_area\":(\"ENVIRONMENTAL SCIENCES\", \"WATER RESOURCES\", \"ENGINEERING ENVIRONMENTAL\", \"INTERDISCIPLINARY APPLICATIONS\"),\n",
    "}"
   ]
  },
  {
   "cell_type": "code",
   "execution_count": 5,
   "metadata": {},
   "outputs": [
    {
     "data": {
      "text/plain": [
       "['TS=(\"sensitivity analysis\" OR \"uncertainty analysis\" OR \"uncertainty quantification\" OR \"uncertainty propagation\" OR \"local sensitivity analysis\" OR \"LSA\" OR \"one-at-a-time\" OR \"exploratory modeling\" OR \"OAT\" OR \"global sensitivity analysis\" OR \"GSA\" OR \"all-at-a-time\" OR \"AAT\") AND WC=(\"ENVIRONMENTAL SCIENCES\" OR \"WATER RESOURCES\" OR \"ENGINEERING ENVIRONMENTAL\" OR \"INTERDISCIPLINARY APPLICATIONS\")']"
      ]
     },
     "execution_count": 5,
     "metadata": {},
     "output_type": "execute_result"
    }
   ],
   "source": [
    "topics = [wosis.build_query(search_terms),]\n",
    "topics"
   ]
  },
  {
   "cell_type": "code",
   "execution_count": null,
   "metadata": {
    "scrolled": true
   },
   "outputs": [
    {
     "name": "stdout",
     "output_type": "stream",
     "text": [
      "Authenticated (SID: 5COml39ikZnPN1oweh7)\n"
     ]
    },
    {
     "name": "stderr",
     "output_type": "stream",
     "text": [
      "c:\\userdata\\douglasd\\project\\biblio\\wosis\\wosis\\query.py:304: UserWarning: Getting referenced works...\n",
      "  warnings.warn(\"Getting referenced works...\")\n"
     ]
    },
    {
     "data": {
      "application/vnd.jupyter.widget-view+json": {
       "model_id": "64221f7c18fa42a4b6b42ba1b8b481d4",
       "version_major": 2,
       "version_minor": 0
      },
      "text/plain": [
       "HBox(children=(IntProgress(value=0, max=15876), HTML(value='')))"
      ]
     },
     "metadata": {},
     "output_type": "display_data"
    },
    {
     "name": "stderr",
     "output_type": "stream",
     "text": [
      "c:\\userdata\\douglasd\\project\\biblio\\wosis\\wosis\\query.py:357: UserWarning: A reference had more than 100 citations. This can take a long time and the cache file can get quite large...\n",
      "  \"A reference had more than {} citations. This can take a long time and the cache file can get quite large...\".format(batch_size))\n"
     ]
    },
    {
     "name": "stdout",
     "output_type": "stream",
     "text": [
      "Server Error Msg: b\"Server raised fault: '(ISE0002) Exception occurred processing request. Reason: Error received from a server supporting the Web service. Cause: Supporting server error message = [ID limit 2500 exceeded]. Supporting server error code = [Server.IDLimit]. Remedy: If this is a problem with your request, correct your request and submit it again. Otherwise, call customer support. '\"\n",
      "Authenticated (SID: 6EqtihVwPiR8A6OC2ph)\n",
      "Server Error Msg: b\"Server raised fault: '(ISE0002) Exception occurred processing request. Reason: Error received from a server supporting the Web service. Cause: Supporting server error message = [ID limit 2500 exceeded]. Supporting server error code = [Server.IDLimit]. Remedy: If this is a problem with your request, correct your request and submit it again. Otherwise, call customer support. '\"\n",
      "Authenticated (SID: 5BzUXx29f8zu1UFBBj2)\n",
      "Server Error Msg: b\"Server raised fault: '(ISE0002) Exception occurred processing request. Reason: Error received from a server supporting the Web service. Cause: Supporting server error message = [ID limit 2500 exceeded]. Supporting server error code = [Server.IDLimit]. Remedy: If this is a problem with your request, correct your request and submit it again. Otherwise, call customer support. '\"\n",
      "Authenticated (SID: 8ACtZnFFpXecqqdMBR3)\n",
      "Server Error Msg: b\"Server raised fault: '(ISE0002) Exception occurred processing request. Reason: Error received from a server supporting the Web service. Cause: Supporting server error message = [ID limit 2500 exceeded]. Supporting server error code = [Server.IDLimit]. Remedy: If this is a problem with your request, correct your request and submit it again. Otherwise, call customer support. '\"\n",
      "Authenticated (SID: 6EihaqDhkWCG5NCaVxk)\n",
      "Server Error Msg: b\"Server raised fault: '(ISE0002) Exception occurred processing request. Reason: Error received from a server supporting the Web service. Cause: Supporting server error message = [ID limit 2500 exceeded]. Supporting server error code = [Server.IDLimit]. Remedy: If this is a problem with your request, correct your request and submit it again. Otherwise, call customer support. '\"\n",
      "Authenticated (SID: 6CmsxRETR1Ug8DsmPLP)\n"
     ]
    }
   ],
   "source": [
    "%%time\n",
    "overwrite = False\n",
    "id_to_query, query_recs = wosis.query(topics, overwrite, wos_config, time_span={'begin':'2000-01-01','end':'2017-12-31'})"
   ]
  },
  {
   "cell_type": "code",
   "execution_count": 7,
   "metadata": {},
   "outputs": [],
   "source": [
    "with open('tmp/example_query_id.txt', 'w') as file:\n",
    "    file.write(json.dumps(id_to_query, indent=2))"
   ]
  },
  {
   "cell_type": "code",
   "execution_count": 8,
   "metadata": {},
   "outputs": [
    {
     "name": "stdout",
     "output_type": "stream",
     "text": [
      "Query ID:  756d39801152fe5f5f4ad3a3df9b6a30_2010-01-01-2017-12-31 \n",
      "Query String: TS=(\"sensitivity analysis\" OR \"uncertainty analysis\" OR \"uncertainty quantification\" OR \"uncertainty propagation\" OR \"local sensitivity analysis\" OR \"LSA\" OR \"one-at-a-time\" OR \"OAT\" OR \"global sensitivity analysis\" OR \"GSA\" OR \"all-at-a-time\" OR \"AAT\") AND WC=(\"ENVIRONMENTAL SCIENCES\" OR \"WATER RESOURCES\" OR \"ENGINEERING ENVIRONMENTAL\" OR \"INTERDISCIPLINARY APPLICATIONS\") \n",
      "\n",
      "Corpora consists of 15754 Publications\n"
     ]
    }
   ],
   "source": [
    "query_id=list(id_to_query)[0]\n",
    "print(\"Query ID: \", query_id, \"\\nQuery String:\", id_to_query[query_id], \"\\n\")\n",
    "RC=mk.RecordCollection(\"tmp/{}.txt\".format(query_id))\n",
    "print(\"Corpora consists of\", len(RC), \"Publications\")"
   ]
  },
  {
   "cell_type": "code",
   "execution_count": 9,
   "metadata": {},
   "outputs": [
    {
     "name": "stdout",
     "output_type": "stream",
     "text": [
      "Corpora consists of 15754 Publications\n"
     ]
    }
   ],
   "source": [
    "RC = list(query_recs.values())[0]\n",
    "print(\"Corpora consists of\", len(RC), \"Publications\")"
   ]
  },
  {
   "cell_type": "code",
   "execution_count": 10,
   "metadata": {},
   "outputs": [],
   "source": [
    "from datetime import datetime\n",
    "repset_df = pd.DataFrame(RC.forNLP(extraColumns=[\"AU\", \"SO\", \"DE\"]))\n",
    "repset_df = repset_df.drop([\"keywords\", \"abstract\"], axis=1)\n",
    "\n",
    "assert len(repset_df.id.unique()) == len(repset_df.id), \"Duplicate records found!\"\n",
    "\n",
    "repset_fn = \"../data/{}.csv\".format(query_id)\n",
    "with open(repset_fn, 'w') as fn:\n",
    "    fn.write(\"# Data from Clarivate Analytics' Web of Science, retrieved 5 December 2018\\n\")\n",
    "    fn.write(\"# This file generated on {}\\n\".format(datetime.now().strftime(\"%Y-%m-%d %H:%M:%S\")))\n",
    "    repset_df.index.name = \"item\"\n",
    "    repset_df.to_csv(fn)"
   ]
  },
  {
   "cell_type": "code",
   "execution_count": 11,
   "metadata": {},
   "outputs": [],
   "source": [
    "# Helper functions for plotting\n",
    "import wosis.analysis.plotting as wos_plot\n",
    "\n",
    "# Analysis and search functions\n",
    "from wosis.analysis import (preview_matches, search_records, keyword_matches, \n",
    "                            find_pubs_by_authors, preview_matches_by_keyword, get_unique_kw_titles,\n",
    "                            remove_by_journals, remove_by_title)\n",
    "\n",
    "# Plotting libraries\n",
    "import matplotlib.pyplot as plt\n",
    "import seaborn as sns\n",
    "\n",
    "# This just helps make the plots look nicer\n",
    "sns.set_style('darkgrid')\n",
    "sns.set_context('paper', font_scale=2.0)"
   ]
  }
 ],
 "metadata": {
  "kernelspec": {
   "display_name": "biblio",
   "language": "python",
   "name": "biblio"
  },
  "language_info": {
   "codemirror_mode": {
    "name": "ipython",
    "version": 3
   },
   "file_extension": ".py",
   "mimetype": "text/x-python",
   "name": "python",
   "nbconvert_exporter": "python",
   "pygments_lexer": "ipython3",
   "version": "3.6.6"
  }
 },
 "nbformat": 4,
 "nbformat_minor": 2
}
