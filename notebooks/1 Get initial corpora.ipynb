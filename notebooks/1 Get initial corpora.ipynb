{
 "cells": [
  {
   "cell_type": "markdown",
   "metadata": {},
   "source": [
    "Initial set up, including search terms."
   ]
  },
  {
   "cell_type": "code",
   "execution_count": null,
   "metadata": {},
   "outputs": [],
   "source": [
    "%run \"Common setup.ipynb\""
   ]
  },
  {
   "cell_type": "code",
   "execution_count": null,
   "metadata": {},
   "outputs": [],
   "source": [
    "import restful_wos"
   ]
  },
  {
   "cell_type": "code",
   "execution_count": null,
   "metadata": {},
   "outputs": [],
   "source": [
    "# Create client and send query\n",
    "client = restful_wos.RESTClient(WOS_CONFIG)\n",
    "search_request = 'TS=(\"sensitivity analysis\" OR \"uncertainty analysis\" OR \"uncertainty quantification\" OR \"uncertainty propagation\" OR \"local sensitivity analysis\" OR \"LSA\" OR \"one-at-a-time\" OR \"exploratory modeling\" OR \"OAT\" OR \"global sensitivity analysis\" OR \"GSA\" OR \"all-at-a-time\" OR \"AAT\") AND WC=(\"ENVIRONMENTAL SCIENCES\" OR \"WATER RESOURCES\" OR \"ENGINEERING ENVIRONMENTAL\" OR \"INTERDISCIPLINARY APPLICATIONS\")'\n",
    "resp = client.query(search_request, time_span=('2000-01-01', '2017-12-31'))\n",
    "\n",
    "# Convert parsed responses into RIS records\n",
    "ris_data = restful_wos.to_ris_text(resp)\n",
    "\n",
    "# Output to a txt file\n",
    "requested_corpora_fn = \"{}/rest_requested_corpora.txt\".format(TMP_DIR)\n",
    "restful_wos.write_file(ris_data, requested_corpora, overwrite=True)"
   ]
  },
  {
   "cell_type": "code",
   "execution_count": null,
   "metadata": {},
   "outputs": [],
   "source": [
    "RC = mk.RecordCollection(requested_corpora_fn)"
   ]
  },
  {
   "cell_type": "code",
   "execution_count": null,
   "metadata": {},
   "outputs": [],
   "source": [
    "print(\"Corpora consists of\", len(RC), \"Publications\")"
   ]
  },
  {
   "cell_type": "code",
   "execution_count": null,
   "metadata": {},
   "outputs": [],
   "source": [
    "from datetime import datetime\n",
    "repset_df = pd.DataFrame(RC.forNLP(extraColumns=[\"AU\", \"SO\", \"DE\"]))\n",
    "repset_df = repset_df.drop([\"keywords\", \"abstract\"], axis=1)\n",
    "\n",
    "assert len(repset_df.id.unique()) == len(repset_df.id), \"Duplicate records found!\"\n",
    "\n",
    "repset_fn = \"{}/{}.csv\".format(DATA_DIR, RC)\n",
    "with open(repset_fn, 'w') as fn:\n",
    "    fn.write(\"# Data from Clarivate Analytics' Web of Science, retrieved 5 December 2018\\n\")\n",
    "    fn.write(\"# This file generated on {}\\n\".format(datetime.now().strftime(\"%Y-%m-%d %H:%M:%S\")))\n",
    "    repset_df.index.name = \"item\"\n",
    "    repset_df.to_csv(fn)"
   ]
  },
  {
   "cell_type": "code",
   "execution_count": null,
   "metadata": {},
   "outputs": [],
   "source": []
  },
  {
   "cell_type": "code",
   "execution_count": null,
   "metadata": {},
   "outputs": [],
   "source": []
  }
 ],
 "metadata": {
  "kernelspec": {
   "display_name": "biblio",
   "language": "python",
   "name": "uasa-trends"
  },
  "language_info": {
   "codemirror_mode": {
    "name": "ipython",
    "version": 3
   },
   "file_extension": ".py",
   "mimetype": "text/x-python",
   "name": "python",
   "nbconvert_exporter": "python",
   "pygments_lexer": "ipython3",
   "version": "3.7.3"
  }
 },
 "nbformat": 4,
 "nbformat_minor": 2
}
