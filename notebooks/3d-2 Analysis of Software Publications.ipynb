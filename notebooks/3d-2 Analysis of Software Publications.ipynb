{
 "cells": [
  {
   "cell_type": "markdown",
   "metadata": {},
   "source": [
    "Initial setup"
   ]
  },
  {
   "cell_type": "code",
   "execution_count": 1,
   "metadata": {},
   "outputs": [],
   "source": [
    "%reload_ext autoreload\n",
    "%autoreload 2"
   ]
  },
  {
   "cell_type": "code",
   "execution_count": 2,
   "metadata": {},
   "outputs": [],
   "source": [
    "%run \"Common setup.ipynb\""
   ]
  },
  {
   "cell_type": "code",
   "execution_count": 3,
   "metadata": {},
   "outputs": [],
   "source": [
    "RC = mk.RecordCollection(\"tmp/rest_filtered_corpora.txt\")"
   ]
  },
  {
   "cell_type": "code",
   "execution_count": 4,
   "metadata": {},
   "outputs": [],
   "source": [
    "wos_config = wosis.load_config('config.yml')"
   ]
  },
  {
   "cell_type": "markdown",
   "metadata": {},
   "source": [
    "<hr> \n",
    "\n",
    "Loading in previously sorted information\n"
   ]
  },
  {
   "cell_type": "code",
   "execution_count": 22,
   "metadata": {},
   "outputs": [],
   "source": [
    "relevant_software_pubs = pd.read_csv('../data/relevant_UASA_software_papers.csv', index_col=0)\n",
    "\n",
    "title_list = [t for t in relevant_software_pubs.title]\n",
    "relevant_pubs = wosis.find_pubs_by_title(RC, title_list)"
   ]
  },
  {
   "cell_type": "code",
   "execution_count": 23,
   "metadata": {},
   "outputs": [],
   "source": [
    "relevant_pubs.name = 'Relevant Software Publications'"
   ]
  },
  {
   "cell_type": "code",
   "execution_count": 24,
   "metadata": {},
   "outputs": [
    {
     "data": {
      "image/png": "[encoded data removed]",
      "text/plain": [
       "<Figure size 648x432 with 1 Axes>"
      ]
     },
     "metadata": {
      "needs_background": "light"
     },
     "output_type": "display_data"
    }
   ],
   "source": [
    "wos_plot.plot_pub_trend(relevant_pubs, title='UA/SA Software Publications')"
   ]
  },
  {
   "cell_type": "code",
   "execution_count": 25,
   "metadata": {},
   "outputs": [
    {
     "data": {
      "text/plain": [
       "relevant\n",
       "?                                  33\n",
       "No                                 32\n",
       "No (not related to environment)    40\n",
       "Yes                                40\n",
       "Yes - ARRAMIS                       1\n",
       "Yes - BAT                           1\n",
       "Yes - BMP Toolbox                   1\n",
       "Yes - COMPARE                       1\n",
       "Yes - Chaospy                       1\n",
       "Yes - Crystal Ball (Excel)          1\n",
       "Yes - DAKOTA                        1\n",
       "Yes - DMMAP                         1\n",
       "Yes - DUE                           1\n",
       "Yes - DUET-H                        1\n",
       "Yes - FReET                         1\n",
       "Yes - GLUE                          1\n",
       "Yes - GRIP                          1\n",
       "Yes - GSAT                          1\n",
       "Yes - GUI-HDMR                      1\n",
       "Yes - GUM                           1\n",
       "Yes - HSPF                          1\n",
       "Yes - IPH-TRIM3D                    1\n",
       "Yes - MCAT                          1\n",
       "Yes - MEDOR                         1\n",
       "Yes - MICA                          1\n",
       "Yes - MINFIT                        1\n",
       "Yes - NEFCLASS-J                    1\n",
       "Yes - NEVA                          1\n",
       "Yes - OPSCI                         1\n",
       "Yes - PCGA                          1\n",
       "Yes - PEST                          5\n",
       "Yes - PSUADE                        1\n",
       "Yes - PUQ                           1\n",
       "Yes - Pi 4U                         1\n",
       "Yes - Promethee                     1\n",
       "Yes - R                             3\n",
       "Yes - R-FME                         1\n",
       "Yes - SAFE                          1\n",
       "Yes - SAMCAT                        1\n",
       "Yes - SGEMS-UQ                      1\n",
       "Yes - SGeMS                         1\n",
       "Yes - SIMLAB                        1\n",
       "Yes - TAMkin                        1\n",
       "Yes - TIDES                         1\n",
       "Yes - Tapenade                      1\n",
       "Yes - UQPyL                         1\n",
       "Yes - custom                        7\n",
       "Yes - iSIGHT                        1\n",
       "yes - ALEA                          1\n",
       "Name: title, dtype: int64"
      ]
     },
     "execution_count": 25,
     "metadata": {},
     "output_type": "execute_result"
    }
   ],
   "source": [
    "sorted_software = pd.read_csv('../data/uasa_software_phrases_sorted.csv')\n",
    "sorted_software.groupby('relevant')['title'].count()"
   ]
  },
  {
   "cell_type": "code",
   "execution_count": null,
   "metadata": {},
   "outputs": [],
   "source": []
  }
 ],
 "metadata": {
  "kernelspec": {
   "display_name": "Python (Biblio)",
   "language": "python",
   "name": "biblio"
  },
  "language_info": {
   "codemirror_mode": {
    "name": "ipython",
    "version": 3
   },
   "file_extension": ".py",
   "mimetype": "text/x-python",
   "name": "python",
   "nbconvert_exporter": "python",
   "pygments_lexer": "ipython3",
   "version": "3.6.6"
  }
 },
 "nbformat": 4,
 "nbformat_minor": 2
}
